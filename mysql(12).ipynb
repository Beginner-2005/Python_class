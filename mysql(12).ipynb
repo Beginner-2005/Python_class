{
 "cells": [
  {
   "cell_type": "code",
   "execution_count": 1,
   "id": "8dc3ead5",
   "metadata": {},
   "outputs": [],
   "source": [
    "import mysql.connector     #importing database\n",
    "database = mysql.connector.connect(\n",
    "    host=\"localhost\",\n",
    "    user=\"root\",\n",
    "    password=\"\",\n",
    "    database=\"python_class\"\n",
    ")\n",
    "db = database.cursor()\n"
   ]
  },
  {
   "cell_type": "code",
   "execution_count": 2,
   "id": "a8b51925",
   "metadata": {},
   "outputs": [
    {
     "name": "stdout",
     "output_type": "stream",
     "text": [
      "(1, 'Ram', 80, 88, 96, 86, 79, 480, 90.0, 'A')\n",
      "(2, 'Hari', 90, 96, 89, 77, 87, 459, 86.0, 'A')\n",
      "(3, 'Sita', 80, 66, 79, 97, 87, 429, 76.0, 'B')\n",
      "(4, 'Geeta', 70, 80, 90, 78, 88, 400, 80.0, 'B')\n",
      "(5, 'Babita', 80, 70, 80, 68, 58, 350, 70.0, 'B')\n"
     ]
    }
   ],
   "source": [
    "db.execute(\"SELECT * FROM student\")\n",
    "result =db.fetchall()\n",
    "for x in result:\n",
    "    print(x)\n"
   ]
  },
  {
   "cell_type": "code",
   "execution_count": 5,
   "id": "997d20ae",
   "metadata": {},
   "outputs": [
    {
     "name": "stdout",
     "output_type": "stream",
     "text": [
      "(1, 'Ram', 80, 88, 96, 86, 79, 480, 90.0, 'A')\n",
      "(2, 'Hari', 90, 96, 89, 77, 87, 459, 86.0, 'A')\n"
     ]
    }
   ],
   "source": [
    "# db.execute(\"SELECT * FROM student WHERE grade='A'\")\n",
    "\n",
    "db.execute(\"SELECT * FROM student WHERE per>75 and grade='A'\")\n",
    "\n",
    "result =db.fetchall()\n",
    "for x in result:\n",
    "    print(x)\n"
   ]
  },
  {
   "cell_type": "code",
   "execution_count": 4,
   "id": "ade73855",
   "metadata": {},
   "outputs": [
    {
     "name": "stdout",
     "output_type": "stream",
     "text": [
      "(4, 'Geeta', 70, 80, 90, 78, 88, 400, 80.0, 'B')\n"
     ]
    }
   ],
   "source": [
    "\n",
    "db.execute(\"SELECT * FROM student WHERE name='Geeta'\")\n",
    "result =db.fetchall()\n",
    "for x in result:\n",
    "    print(x)\n"
   ]
  },
  {
   "cell_type": "code",
   "execution_count": 9,
   "id": "87bac262",
   "metadata": {},
   "outputs": [],
   "source": [
    "# insert\n",
    "sql='''INSERT INTO student (name,physics,chemistry,math,english,nepali,total,per,grade) \n",
    "    VALUES ('Rita', 60, 70, 80, 87, 90, 400, 69, 'B')'''\n",
    "db.execute(sql)\n",
    "database.commit()"
   ]
  },
  {
   "cell_type": "code",
   "execution_count": 10,
   "id": "94824554",
   "metadata": {},
   "outputs": [
    {
     "name": "stdout",
     "output_type": "stream",
     "text": [
      "Enter name:Pita\n",
      "Enter marks of physics 80\n",
      "Enter marks of chemistry 90\n",
      "Enter marks of math 90\n",
      "Enter marks of english 79\n",
      "Enter marks of nepali 60\n",
      "Total marks= 399  Percentage= 99.75 %\n"
     ]
    }
   ],
   "source": [
    "nm=input(\"Enter name:\")\n",
    "a=int(input(\"Enter marks of physics \"))\n",
    "b=int(input(\"Enter marks of chemistry \"))\n",
    "c=int(input(\"Enter marks of math \"))\n",
    "d=int(input(\"Enter marks of english \"))\n",
    "e=int(input(\"Enter marks of nepali \"))\n",
    "t=a+b+c+d+e\n",
    "p=t/500*100\n",
    "\n",
    "if p>80 or p==80:\n",
    "    g=\"A\"\n",
    "elif p>60 or p==60:\n",
    "    g=\"B\"\n",
    "elif p>40 or p==40:\n",
    "    g=\"C\"\n",
    "else:\n",
    "    g=\"F\"\n",
    "    \n",
    "    \n",
    "sql=f'''INSERT INTO student (name,physics,chemistry,math,english,nepali,total,per,grade) \n",
    "    VALUES ('{nm}', {a}, {b}, {c}, {d}, {e}, {t}, {p}, '{g}')'''\n",
    "db.execute(sql)\n",
    "database.commit()"
   ]
  },
  {
   "cell_type": "code",
   "execution_count": 11,
   "id": "ca42fb45",
   "metadata": {},
   "outputs": [],
   "source": [
    "# update\n",
    "sql=\"UPDATE student SET `name` = 'Pita' WHERE sn = 7\"\n",
    "db.execute(sql)\n",
    "database.commit()"
   ]
  },
  {
   "cell_type": "code",
   "execution_count": 12,
   "id": "b978d7ae",
   "metadata": {},
   "outputs": [],
   "source": [
    "sql=\"DELETE FROM student WHERE sn = 7\"\n",
    "db.execute(sql)\n",
    "database.commit()"
   ]
  },
  {
   "cell_type": "code",
   "execution_count": null,
   "id": "2673013a",
   "metadata": {},
   "outputs": [],
   "source": []
  }
 ],
 "metadata": {
  "kernelspec": {
   "display_name": "Python 3 (ipykernel)",
   "language": "python",
   "name": "python3"
  },
  "language_info": {
   "codemirror_mode": {
    "name": "ipython",
    "version": 3
   },
   "file_extension": ".py",
   "mimetype": "text/x-python",
   "name": "python",
   "nbconvert_exporter": "python",
   "pygments_lexer": "ipython3",
   "version": "3.11.3"
  }
 },
 "nbformat": 4,
 "nbformat_minor": 5
}
