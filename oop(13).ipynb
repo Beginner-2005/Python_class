{
 "cells": [
  {
   "cell_type": "code",
   "execution_count": null,
   "id": "2cf9cd3d",
   "metadata": {},
   "outputs": [],
   "source": [
    "# class Hello:\n",
    "#     <methods>\n",
    "#     <methods>\n",
    "#     <methods>\n",
    "    \n",
    "    \n",
    "# obj=Hello()\n",
    "# obj.<methods>\n",
    "# obj.<methods>\n",
    "# obj.<methods>"
   ]
  },
  {
   "cell_type": "code",
   "execution_count": null,
   "id": "fd8d959b",
   "metadata": {},
   "outputs": [],
   "source": [
    "class Hello:                 #class\n",
    "    def hello():             #method\n",
    "        print(\"Hello World\")\n",
    "        \n",
    "obj=Hello()                  #object\n",
    "obj.hello()                  #initializing object"
   ]
  },
  {
   "cell_type": "code",
   "execution_count": null,
   "id": "c4b18506",
   "metadata": {},
   "outputs": [],
   "source": [
    "#uses variable if defined in future (more used as variable can/cant be used i.e. it has options)\n",
    "\n",
    "class Hello:                 #class\n",
    "    def hello(self):             #method\n",
    "        print(\"Hello World\")\n",
    "        \n",
    "obj=Hello()                  #object\n",
    "obj.hello()                  #initializing object"
   ]
  },
  {
   "cell_type": "code",
   "execution_count": null,
   "id": "db5aeaf6",
   "metadata": {},
   "outputs": [],
   "source": [
    "#doesnt uses variable if defined in future\n",
    "\n",
    "class Hello:                 #class\n",
    "    @staticmethod            #decorator\n",
    "    def hello():             #method\n",
    "        print(\"Hello World\")\n",
    "        \n",
    "obj=Hello()                  #object\n",
    "obj.hello()                  #initializing object"
   ]
  },
  {
   "cell_type": "code",
   "execution_count": null,
   "id": "87100c57",
   "metadata": {},
   "outputs": [],
   "source": [
    "class Area:\n",
    "    @staticmethod\n",
    "    def area(l,b):\n",
    "        a=l*b\n",
    "        print(a)\n",
    "        \n",
    "obj=Area()\n",
    "obj.area(10,5)"
   ]
  },
  {
   "cell_type": "code",
   "execution_count": null,
   "id": "efc6d6cd",
   "metadata": {},
   "outputs": [],
   "source": [
    "class Cal:\n",
    "    @staticmethod\n",
    "    def area(l,b):\n",
    "        a=l*b\n",
    "        print(a)\n",
    "    @staticmethod\n",
    "    def vol(l,b,h):\n",
    "        v=l*b*h\n",
    "        print(v)\n",
    "obj=Cal()\n",
    "obj.area(10,5)\n",
    "obj.vol(10,5,2)"
   ]
  },
  {
   "cell_type": "code",
   "execution_count": null,
   "id": "624fa3c3",
   "metadata": {},
   "outputs": [],
   "source": [
    "class Cal:\n",
    "    def __init__(self,l,b,h):\n",
    "        self.length=l\n",
    "        self.breadth=b\n",
    "        self.height=h\n",
    "        \n",
    "    def area(self):\n",
    "        a=self.length*self.breadth\n",
    "        print(a)\n",
    "    \n",
    "    def volume(self):\n",
    "        v=self.length*self.breadth*self.height\n",
    "        print(v)\n",
    "    \n",
    "obj=Cal(10,5,2)\n",
    "obj.area()\n",
    "obj.volume()"
   ]
  },
  {
   "cell_type": "code",
   "execution_count": null,
   "id": "a306f329",
   "metadata": {},
   "outputs": [],
   "source": [
    "class Info:\n",
    "    def __init__(self,nm,ag,ad):\n",
    "        self.nm=nm\n",
    "        self.ag=ag\n",
    "        self.ad=ad\n",
    "        \n",
    "    def info(self):\n",
    "        print(f\"Hello World. Im {self.nm}. Im from {self.ad} and Im {self.ag}\")\n",
    "        \n",
    "nm=input(\"Enter name\")\n",
    "ag=input(\"Enter age\")\n",
    "ad=input(\"Enter address\")\n",
    "\n",
    "obj=Info(nm,ag,ad)\n",
    "obj.info()"
   ]
  },
  {
   "cell_type": "code",
   "execution_count": null,
   "id": "9ab8e0fa",
   "metadata": {},
   "outputs": [],
   "source": [
    "#INHERITANCE"
   ]
  },
  {
   "cell_type": "code",
   "execution_count": null,
   "id": "bc2c8656",
   "metadata": {},
   "outputs": [],
   "source": [
    "# class A:\n",
    "#     pass\n",
    "\n",
    "# class B(A):\n",
    "#     pass\n",
    "\n",
    "# obj=B()"
   ]
  },
  {
   "cell_type": "code",
   "execution_count": null,
   "id": "f1cdea46",
   "metadata": {},
   "outputs": [],
   "source": [
    "class Data:                          #parent class\n",
    "    def __init__(self):\n",
    "        self.nm=\"Ram\"\n",
    "        self.ag=17\n",
    "        self.ad=\"Ktm\"\n",
    "        \n",
    "    def data(a):\n",
    "        print(a.nm,a.ag,a.ad)\n",
    "        \n",
    "class Info(Data):                    #child class\n",
    "    def info(self):\n",
    "        print(f\"Hello World. Im {self.nm}. Im from {self.ad} and Im {self.ag}\")\n",
    "        \n",
    "        \n",
    "obj=Info()\n",
    "obj.info()\n",
    "obj.data()"
   ]
  },
  {
   "cell_type": "code",
   "execution_count": null,
   "id": "a97390ed",
   "metadata": {},
   "outputs": [],
   "source": [
    "class Data:                          #parent class\n",
    "    def __init__(self,nm,ag,ad):\n",
    "        self.nm=nm\n",
    "        self.ag=ag\n",
    "        self.ad=ad\n",
    "        \n",
    "    def data(self):\n",
    "        print(self.nm,self.ag,self.ad)\n",
    "        \n",
    "class Info(Data):                    #child class\n",
    "    def info(self):\n",
    "        print(f\"Hello World. Im {self.nm}. Im from {self.ad} and Im {self.ag}\")\n",
    "       \n",
    "nm=input(\"Enter name\")\n",
    "ag=input(\"Enter age\")\n",
    "ad=input(\"Enter address\")\n",
    "\n",
    "        \n",
    "obj=Info(nm,ag,ad)\n",
    "obj.info()\n",
    "obj.data()"
   ]
  },
  {
   "cell_type": "code",
   "execution_count": null,
   "id": "c6957981",
   "metadata": {},
   "outputs": [],
   "source": [
    "class Data:                          #parent class\n",
    "    def __init__(self,nm,ag,ad):\n",
    "        self.nm=nm\n",
    "        self.ag=ag\n",
    "        self.ad=ad\n",
    "        \n",
    "    def data(self):\n",
    "        print(self.nm,self.ag,self.ad)\n",
    "        \n",
    "class Info(Data):                    #child class\n",
    "    def __init__(self,nm,ag,ad,ph):\n",
    "        self.ph=ph\n",
    "        Data.__init__(self,nm,ag,ad)\n",
    "    def info(self):\n",
    "        print(f\"Hello World. Im {self.nm}. Im from {self.ad} and Im {self.ag}. My number is {self.ph}\")\n",
    "       \n",
    "nm=input(\"Enter name\")\n",
    "ag=input(\"Enter age\")\n",
    "ad=input(\"Enter address\")\n",
    "ph=input(\"Enter phone no.\")\n",
    "\n",
    "        \n",
    "obj=Info(nm,ag,ad,ph)\n",
    "obj.info()\n",
    "obj.data()\n",
    "print(obj.nm,obj.ag,obj.ad,obj.ph)"
   ]
  },
  {
   "cell_type": "code",
   "execution_count": null,
   "id": "f980bbbd",
   "metadata": {},
   "outputs": [],
   "source": [
    "# multi level inheritance"
   ]
  },
  {
   "cell_type": "code",
   "execution_count": null,
   "id": "14299341",
   "metadata": {},
   "outputs": [],
   "source": [
    "class A:\n",
    "    pass\n",
    "\n",
    "class B(A):\n",
    "    pass\n",
    "\n",
    "class C(B):\n",
    "    pass\n",
    "\n",
    "obj=C()"
   ]
  },
  {
   "cell_type": "code",
   "execution_count": null,
   "id": "467171f4",
   "metadata": {},
   "outputs": [],
   "source": [
    "# multiple inheritance"
   ]
  },
  {
   "cell_type": "code",
   "execution_count": null,
   "id": "88473279",
   "metadata": {},
   "outputs": [],
   "source": [
    "class A:\n",
    "    pass\n",
    "\n",
    "class B:\n",
    "    pass\n",
    "\n",
    "class C(A,B):\n",
    "    pass\n",
    "\n",
    "obj=C()"
   ]
  },
  {
   "cell_type": "code",
   "execution_count": null,
   "id": "73cfb3f1",
   "metadata": {},
   "outputs": [],
   "source": [
    "# multilevel\n",
    "class Address:\n",
    "    def __init__(self,ad):\n",
    "        self.ad=ad\n",
    "    def address(self):\n",
    "        print(\"Hello World. Im from {self.ad}\")\n",
    "\n",
    "class Data:                          #parent class\n",
    "    def __init__(self,nm,ag,ad):\n",
    "        self.nm=nm\n",
    "        self.ag=ag\n",
    "        Address.__init__(self,ad)\n",
    "        \n",
    "    def data(self):\n",
    "        print(self.nm,self.ag,self.ad)\n",
    "        \n",
    "class Info(Data):                    #child class\n",
    "    def __init__(self,nm,ag,ad,ph):\n",
    "        self.ph=ph\n",
    "        Data.__init__(self,nm,ag,ad)\n",
    "    def info(self):\n",
    "        print(f\"Hello World. Im {self.nm}. Im from {self.ad} and Im {self.ag}. My number is {self.ph}\")\n",
    "       \n",
    "        \n",
    "obj=Info(\"Ram\",40,\"Ktm\",980)\n",
    "obj.info()\n",
    "obj.data()\n",
    "print(obj.nm,obj.ag,obj.ad,obj.ph)"
   ]
  },
  {
   "cell_type": "code",
   "execution_count": null,
   "id": "ee1177c0",
   "metadata": {},
   "outputs": [],
   "source": [
    "class A:\n",
    "    def __init__(self):\n",
    "        self.nm=\"Ram\"\n",
    "        \n",
    "class B(A):\n",
    "    def __init__(self):\n",
    "        self.ag=33\n",
    "        A.__init__(self)\n",
    "        \n",
    "class C(B):\n",
    "    def __init__(self):\n",
    "        self.ad=\"Ktm\"\n",
    "        B.__init__(self)\n",
    "    def info(self):\n",
    "        print(f\"Hello World. Im {self.nm}. Im from {self.ad} and Im {self.ag}.\")\n",
    "                \n",
    "obj=C()\n",
    "obj.info()"
   ]
  },
  {
   "cell_type": "code",
   "execution_count": null,
   "id": "877c8cc7",
   "metadata": {},
   "outputs": [],
   "source": [
    "#private, public and protected members"
   ]
  },
  {
   "cell_type": "code",
   "execution_count": null,
   "id": "98a1fb22",
   "metadata": {},
   "outputs": [],
   "source": [
    "#public members\n",
    "class Info:\n",
    "    def __init__(self):\n",
    "        self.nm=\"Ram\"\n",
    "        self.ag=17\n",
    "        self.ad=\"Ktm\"\n",
    "        \n",
    "    def info(self):\n",
    "        print(f\"Hello World. Im {self.nm}. Im from {self.ad} and Im {self.ag}.\")\n",
    "        \n",
    "obj=Info()\n",
    "obj.info()\n",
    "print(obj.nm,obj.ag,obj.ad)"
   ]
  },
  {
   "cell_type": "code",
   "execution_count": null,
   "id": "6ba8ea81",
   "metadata": {},
   "outputs": [],
   "source": [
    "#protected members    (underscore is used defore naming variable for protected)\n",
    "class Info:\n",
    "    def __init__(self):\n",
    "        self._nm=\"Ram\"  #protected member\n",
    "        self._ag=17     #protected member\n",
    "        self._ad=\"Ktm\"  #protected member\n",
    "        \n",
    "    def info(self):\n",
    "        print(f\"Hello World. Im {self._nm}. Im from {self._ad} and Im {self._ag}.\")\n",
    "        \n",
    "obj=Info()\n",
    "obj.info()\n",
    "print(obj._nm,obj._ag,obj._ad)"
   ]
  },
  {
   "cell_type": "code",
   "execution_count": null,
   "id": "c6418c7e",
   "metadata": {},
   "outputs": [],
   "source": [
    "#private members    (double-underscore is used defore naming variable for private)\n",
    "class Info:\n",
    "    def __init__(self):\n",
    "        self.__nm=\"Ram\"  #private member\n",
    "        self.__ag=17     #private member\n",
    "        self.__ad=\"Ktm\"  #private member\n",
    "        \n",
    "    def info(self):\n",
    "        print(f\"Hello World. Im {self.__nm}. Im from {self.__ad} and Im {self.__ag}.\")\n",
    "        \n",
    "obj=Info()\n",
    "obj.info()"
   ]
  },
  {
   "cell_type": "code",
   "execution_count": 8,
   "id": "13352c3d",
   "metadata": {},
   "outputs": [
    {
     "name": "stdout",
     "output_type": "stream",
     "text": [
      "Hello World. Im Ram. Im 17\n",
      "Ram 17 Ktm\n",
      "<__main__.Info object at 0x110afa550>\n"
     ]
    }
   ],
   "source": [
    "class Data:                          #parent class\n",
    "    def __init__(self):\n",
    "        self.nm=\"Ram\"         #public\n",
    "        self._ag=17           #protected\n",
    "        self.__ad=\"Ktm\"       #private\n",
    "        \n",
    "    def data(a):\n",
    "        print(a.nm,a._ag,a.__ad)\n",
    "        \n",
    "class Info(Data):                    #child class\n",
    "    def info(self):\n",
    "        print(f\"Hello World. Im {self.nm}. Im {self._ag}\")   # Im from {self.__ad} and  <- cant use data of private\n",
    "        \n",
    "    def my_data(self):\n",
    "#         Data.data(self)\n",
    "        super().data()\n",
    "        \n",
    "        \n",
    "obj=Info()\n",
    "obj.info()\n",
    "obj.my_data()\n",
    "print(obj)"
   ]
  },
  {
   "cell_type": "code",
   "execution_count": null,
   "id": "f0f1424b",
   "metadata": {},
   "outputs": [],
   "source": [
    "#printing also private\n",
    "class Info:\n",
    "    def __init__(self):\n",
    "        self.nm=\"Ram\"  \n",
    "        self._ag=17   \n",
    "        self.__ad=\"Ktm\" \n",
    "        \n",
    "    def info(self):\n",
    "        print(f\"Hello World. Im {self.nm}. Im from {self.__ad} and Im {self._ag}.\")\n",
    "        \n",
    "obj=Info()\n",
    "obj.info()\n",
    "print(obj.nm,obj._ag,obj._Info__ad)"
   ]
  },
  {
   "cell_type": "code",
   "execution_count": null,
   "id": "eff8b80a",
   "metadata": {},
   "outputs": [],
   "source": [
    "class Data:                          #parent class\n",
    "    def __init__(self):\n",
    "        self.nm=\"Ram\"         #public\n",
    "        self._ag=17           #protected\n",
    "        self.__ad=\"Ktm\"       #private\n",
    "        \n",
    "    def data(a):\n",
    "        print(a.nm,a._ag,a.__ad)\n",
    "        \n",
    "class Info(Data):                    #child class\n",
    "    def info(self):\n",
    "        print(f\"Hello World. Im {self.nm}. Im from {self._Data__ad} and Im {self._ag}\")   # <- use data of private\n",
    "        \n",
    "    def my_data(self):\n",
    "#         Data.data(self)\n",
    "        super().data()\n",
    "        \n",
    "        \n",
    "obj=Info()\n",
    "obj.info()\n",
    "obj.my_data()"
   ]
  },
  {
   "cell_type": "code",
   "execution_count": null,
   "id": "6edf2d16",
   "metadata": {},
   "outputs": [],
   "source": [
    "class Data:                          #parent class\n",
    "    def __init__(self,nm,ag,ad):\n",
    "        self.nm=nm\n",
    "        self._ag=ag\n",
    "        self.__ad=ad\n",
    "        \n",
    "    def data(self):\n",
    "        print(self.nm,self._ag,self.__ad)\n",
    "        \n",
    "class Info(Data):                    #child class\n",
    "    def info(self):\n",
    "        print(f\"Hello World. Im {self.nm}.Im {self.ag}\")\n",
    "       \n",
    "nm=input(\"Enter name\")\n",
    "ag=input(\"Enter age\")\n",
    "ad=input(\"Enter address\")\n",
    "\n",
    "        \n",
    "obj=Info(nm,ag,ad)\n",
    "obj.info()\n",
    "obj.data()"
   ]
  },
  {
   "cell_type": "code",
   "execution_count": 7,
   "id": "648e1692",
   "metadata": {},
   "outputs": [
    {
     "name": "stdout",
     "output_type": "stream",
     "text": [
      "Ram\n",
      "<class '__main__.Info'>\n",
      "Hello World. Im Ram. Im from Ktm and Im 17.\n"
     ]
    }
   ],
   "source": [
    "# str\n",
    "class Info:\n",
    "    def __init__(self):\n",
    "        self.nm=\"Ram\"\n",
    "        self.ag=17\n",
    "        self.ad=\"Ktm\"\n",
    "        \n",
    "    def __str__(self):\n",
    "        return self.nm\n",
    "        \n",
    "    def info(self):\n",
    "        print(f\"Hello World. Im {self.nm}. Im from {self.ad} and Im {self.ag}.\")\n",
    "        \n",
    "obj=Info()\n",
    "print(obj)\n",
    "#print(obj + \"Shyam\")     <--obj cant concatinate with strinf\n",
    "#print(obj+obj)      <-- this also cant be concatinated\n",
    "print(type(obj))\n",
    "obj.info()"
   ]
  },
  {
   "cell_type": "code",
   "execution_count": null,
   "id": "38152ce9",
   "metadata": {},
   "outputs": [],
   "source": []
  },
  {
   "cell_type": "code",
   "execution_count": null,
   "id": "eee013d0",
   "metadata": {},
   "outputs": [],
   "source": []
  },
  {
   "cell_type": "code",
   "execution_count": null,
   "id": "7b479b7a",
   "metadata": {},
   "outputs": [],
   "source": []
  },
  {
   "cell_type": "code",
   "execution_count": null,
   "id": "844dbcac",
   "metadata": {},
   "outputs": [],
   "source": []
  }
 ],
 "metadata": {
  "kernelspec": {
   "display_name": "Python 3 (ipykernel)",
   "language": "python",
   "name": "python3"
  },
  "language_info": {
   "codemirror_mode": {
    "name": "ipython",
    "version": 3
   },
   "file_extension": ".py",
   "mimetype": "text/x-python",
   "name": "python",
   "nbconvert_exporter": "python",
   "pygments_lexer": "ipython3",
   "version": "3.11.3"
  }
 },
 "nbformat": 4,
 "nbformat_minor": 5
}
