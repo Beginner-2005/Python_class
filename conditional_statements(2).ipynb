{
 "cells": [
  {
   "cell_type": "code",
   "execution_count": 3,
   "id": "484129fb",
   "metadata": {},
   "outputs": [],
   "source": [
    "#if<condition>:\n",
    "#    <operation>\n",
    "#elif<condition>:\n",
    "#    <operation>\n",
    "#...\n",
    "#else:\n",
    "#    <operation>"
   ]
  },
  {
   "cell_type": "code",
   "execution_count": 4,
   "id": "43c14c5e",
   "metadata": {},
   "outputs": [],
   "source": [
    "# comparison operators:\n",
    "# < > <= >= = == !="
   ]
  },
  {
   "cell_type": "code",
   "execution_count": 9,
   "id": "6fd215b8",
   "metadata": {},
   "outputs": [
    {
     "name": "stdout",
     "output_type": "stream",
     "text": [
      "Enter age: 18\n",
      "The age is equal or greater than 18\n"
     ]
    }
   ],
   "source": [
    "age=int(input(\"Enter age: \"))\n",
    "if age>=18:\n",
    "    print(\"The age is equal or greater than 18\")\n",
    "    \n",
    "else:\n",
    "    print(\"The age is below 18\")"
   ]
  },
  {
   "cell_type": "code",
   "execution_count": 11,
   "id": "53b9aa3c",
   "metadata": {},
   "outputs": [
    {
     "name": "stdout",
     "output_type": "stream",
     "text": [
      "Enter a:3\n",
      "3  is odd\n"
     ]
    }
   ],
   "source": [
    "a=int(input(\"Enter a:\"))\n",
    "if a%2==0:\n",
    "    print(a,\" is even\")\n",
    "    \n",
    "else:\n",
    "    print(a,\" is odd\")"
   ]
  },
  {
   "cell_type": "code",
   "execution_count": 14,
   "id": "543ea602",
   "metadata": {},
   "outputs": [
    {
     "name": "stdout",
     "output_type": "stream",
     "text": [
      "Enter a:2\n",
      "Enter b:2\n",
      "Both are equal\n"
     ]
    }
   ],
   "source": [
    "a=int(input(\"Enter a:\"))\n",
    "b=int(input(\"Enter b:\"))\n",
    "if a>b:\n",
    "    print(a,\"is greater\")\n",
    "elif b>a:\n",
    "    print(b,\"is greater\")\n",
    "else:\n",
    "    print(\"Both are equal\")"
   ]
  },
  {
   "cell_type": "code",
   "execution_count": 15,
   "id": "00792265",
   "metadata": {},
   "outputs": [
    {
     "name": "stdout",
     "output_type": "stream",
     "text": [
      "Enter marks of maths 70\n",
      "Enter marks of physics 40\n",
      "Enter marks of chemistry 10\n",
      "Enter marks of computer 20\n",
      "Total marks= 140  Percentage= 35.0 %\n",
      "Fail\n"
     ]
    }
   ],
   "source": [
    "a=int(input(\"Enter marks of maths \"))\n",
    "b=int(input(\"Enter marks of physics \"))\n",
    "c=int(input(\"Enter marks of chemistry \"))\n",
    "d=int(input(\"Enter marks of computer \"))\n",
    "t=a+b+c+d\n",
    "p=t/400*100\n",
    "print(\"Total marks=\",t,\" Percentage=\",p,\"%\")\n",
    "\n",
    "if p>=90:\n",
    "    print(\"A+\")\n",
    "elif p>=80:\n",
    "    print(\"A\")\n",
    "elif p>=70:\n",
    "    print(\"B+\")\n",
    "elif p>=60:\n",
    "    print(\"B\")\n",
    "elif p>=50:\n",
    "    print(\"C+\")\n",
    "elif p>=40:\n",
    "    print(\"C\")\n",
    "else:\n",
    "    print(\"Fail\")"
   ]
  },
  {
   "cell_type": "code",
   "execution_count": 19,
   "id": "ab9047c9",
   "metadata": {},
   "outputs": [
    {
     "name": "stdout",
     "output_type": "stream",
     "text": [
      "Enter a:2\n",
      "Enter b:3\n",
      "Enter the operator*\n",
      "6\n"
     ]
    }
   ],
   "source": [
    "a=int(input(\"Enter a:\"))\n",
    "b=int(input(\"Enter b:\"))\n",
    "c=str(input(\"Enter the operator\"))\n",
    "\n",
    "if c==\"+\":\n",
    "    print(a+b)\n",
    "elif c==\"-\":\n",
    "    print(a-b)\n",
    "elif c==\"/\":\n",
    "    print(a/b)\n",
    "elif c==\"*\":\n",
    "    print(a*b)\n",
    "else:\n",
    "    print(\"Invalid operator\")"
   ]
  },
  {
   "cell_type": "code",
   "execution_count": 1,
   "id": "4b000008",
   "metadata": {},
   "outputs": [
    {
     "ename": "SyntaxError",
     "evalue": "invalid syntax (4211715418.py, line 2)",
     "output_type": "error",
     "traceback": [
      "\u001b[0;36m  Cell \u001b[0;32mIn[1], line 2\u001b[0;36m\u001b[0m\n\u001b[0;31m    and &\u001b[0m\n\u001b[0m    ^\u001b[0m\n\u001b[0;31mSyntaxError\u001b[0m\u001b[0;31m:\u001b[0m invalid syntax\n"
     ]
    }
   ],
   "source": [
    "# logical operator:\n",
    "and &\n",
    "1 * 0 = 0\n",
    "1 * 1 = 1\n",
    "0 * 0 = 0\n",
    "0 * 1 = 0\n",
    "\n",
    "or |\n",
    "1 + 0 = 1\n",
    "1 + 1 = 2 (True)\n",
    "0 + 0 = 0\n",
    "0 + 1 = 1\n"
   ]
  },
  {
   "cell_type": "code",
   "execution_count": 2,
   "id": "9e4641ea",
   "metadata": {},
   "outputs": [
    {
     "name": "stdout",
     "output_type": "stream",
     "text": [
      "True\n",
      "False\n",
      "False\n",
      "False\n"
     ]
    }
   ],
   "source": [
    "# #and\n",
    "# print(True and True)\n",
    "# print(True and False)\n",
    "# print(False and True)\n",
    "# print(False and False)"
   ]
  },
  {
   "cell_type": "code",
   "execution_count": 3,
   "id": "579b447a",
   "metadata": {},
   "outputs": [
    {
     "name": "stdout",
     "output_type": "stream",
     "text": [
      "True\n",
      "True\n",
      "True\n",
      "False\n"
     ]
    }
   ],
   "source": [
    "# #or\n",
    "# print(True or True)\n",
    "# print(True or False)\n",
    "# print(False or True)\n",
    "# print(False or False)"
   ]
  },
  {
   "cell_type": "code",
   "execution_count": 8,
   "id": "924e04a0",
   "metadata": {},
   "outputs": [
    {
     "name": "stdout",
     "output_type": "stream",
     "text": [
      "Enter a no.-2\n",
      "-2  is negative and even\n"
     ]
    }
   ],
   "source": [
    "#+ve/-ve and odd/even\n",
    "a=int(input(\"Enter a no.\"))\n",
    "if a>=0 and a%2==0:\n",
    "    print(a,\" is positive and even\")\n",
    "elif a>=0 and a%2!=0:\n",
    "    print(a,\" is positive and odd\")\n",
    "elif a<0 and a%2==0:\n",
    "    print(a,\" is negative and even\")\n",
    "else:\n",
    "    print(a,\" is negative and odd\")\n"
   ]
  },
  {
   "cell_type": "code",
   "execution_count": 2,
   "id": "05ebe078",
   "metadata": {},
   "outputs": [
    {
     "name": "stdout",
     "output_type": "stream",
     "text": [
      "Enter marks of maths 40\n",
      "Enter marks of physics 50\n",
      "Enter marks of chemistry 50\n",
      "Enter marks of computer 60\n",
      "Total marks= 200  Percentage= 50.0 %\n",
      "C+\n"
     ]
    }
   ],
   "source": [
    "a=int(input(\"Enter marks of maths \"))\n",
    "b=int(input(\"Enter marks of physics \"))\n",
    "c=int(input(\"Enter marks of chemistry \"))\n",
    "d=int(input(\"Enter marks of computer \"))\n",
    "t=a+b+c+d\n",
    "p=t/400*100\n",
    "print(\"Total marks=\",t,\" Percentage=\",p,\"%\")\n",
    "\n",
    "if p>90 or p==90:\n",
    "    print(\"A+\")\n",
    "elif p>80 or p==80:\n",
    "    print(\"A\")\n",
    "elif p>70 or p==70:\n",
    "    print(\"B+\")\n",
    "elif p>60 or p==60:\n",
    "    print(\"B\")\n",
    "elif p>50 or p==50:\n",
    "    print(\"C+\")\n",
    "elif p>40 or p==40:\n",
    "    print(\"C\")\n",
    "else:\n",
    "    print(\"Fail\")"
   ]
  },
  {
   "cell_type": "code",
   "execution_count": 3,
   "id": "2b02f5e5",
   "metadata": {},
   "outputs": [],
   "source": [
    "# # nested if else          (Ctrl+/ = multi line comment)\n",
    "# if condition:\n",
    "#     if condition:\n",
    "#         opeeration\n",
    "#     else:\n",
    "#         operation\n",
    "        \n",
    "# else:\n",
    "#     if condition:\n",
    "#         operation\n",
    "#     else:\n",
    "#         operation\n"
   ]
  },
  {
   "cell_type": "code",
   "execution_count": 5,
   "id": "53726d80",
   "metadata": {},
   "outputs": [
    {
     "name": "stdout",
     "output_type": "stream",
     "text": [
      "Enter a:10\n",
      "Enter b:0\n",
      "Enter the operator/\n",
      "The value of b cannot be 0\n"
     ]
    }
   ],
   "source": [
    "a=int(input(\"Enter a:\"))\n",
    "b=int(input(\"Enter b:\"))\n",
    "c=str(input(\"Enter the operator\"))\n",
    "\n",
    "if c==\"+\":\n",
    "    print(a+b)\n",
    "elif c==\"-\":\n",
    "    print(a-b)\n",
    "elif c==\"/\":\n",
    "    if b!=0:                #using nested if\n",
    "        print(a/b)\n",
    "    else:\n",
    "        print(\"The value of b cannot be 0\")\n",
    "elif c==\"*\":\n",
    "    print(a*b)\n",
    "else:\n",
    "    print(\"Invalid operator\")"
   ]
  },
  {
   "cell_type": "code",
   "execution_count": 9,
   "id": "24865b8c",
   "metadata": {},
   "outputs": [
    {
     "name": "stdout",
     "output_type": "stream",
     "text": [
      "Enter a:10\n",
      "Enter b:0\n",
      "Enter the operator/\n",
      "The value of b cannot be 0\n"
     ]
    }
   ],
   "source": [
    "a=int(input(\"Enter a:\"))\n",
    "b=int(input(\"Enter b:\"))\n",
    "c=str(input(\"Enter the operator\"))\n",
    "\n",
    "if c==\"+\":\n",
    "    print(a+b)\n",
    "elif c==\"-\":\n",
    "    print(a-b)\n",
    "elif c==\"/\" and b!=0:         #using and\n",
    "        print(a/b)\n",
    "elif c==\"/\" and b==0:\n",
    "        print(\"The value of b cannot be 0\")\n",
    "elif c==\"*\":\n",
    "    print(a*b)\n",
    "else:\n",
    "    print(\"Invalid operator\")"
   ]
  },
  {
   "cell_type": "code",
   "execution_count": 17,
   "id": "430530f1",
   "metadata": {},
   "outputs": [
    {
     "name": "stdout",
     "output_type": "stream",
     "text": [
      "Enter a no.-1\n",
      "-1  is negative and odd\n"
     ]
    }
   ],
   "source": [
    "#+ve/-ve and odd/even\n",
    "a=int(input(\"Enter a no.\"))\n",
    "if a>=0:\n",
    "    if a%2==0:\n",
    "        print(a,\" is positive and even\")\n",
    "    else:\n",
    "        print(a,\" is positive and odd\")\n",
    "else:\n",
    "    if a%2==0:\n",
    "        print(a,\" is negative and even\")\n",
    "    else:\n",
    "        print(a,\" is negative and odd\")\n"
   ]
  },
  {
   "cell_type": "code",
   "execution_count": null,
   "id": "35e091f0",
   "metadata": {},
   "outputs": [],
   "source": []
  }
 ],
 "metadata": {
  "kernelspec": {
   "display_name": "Python 3 (ipykernel)",
   "language": "python",
   "name": "python3"
  },
  "language_info": {
   "codemirror_mode": {
    "name": "ipython",
    "version": 3
   },
   "file_extension": ".py",
   "mimetype": "text/x-python",
   "name": "python",
   "nbconvert_exporter": "python",
   "pygments_lexer": "ipython3",
   "version": "3.11.3"
  }
 },
 "nbformat": 4,
 "nbformat_minor": 5
}
