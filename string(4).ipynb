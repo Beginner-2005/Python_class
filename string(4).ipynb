{
 "cells": [
  {
   "cell_type": "code",
   "execution_count": 2,
   "id": "b3cde7e3",
   "metadata": {},
   "outputs": [
    {
     "name": "stdout",
     "output_type": "stream",
     "text": [
      "<class 'str'>\n",
      "<class 'str'>\n",
      "<class 'str'>\n"
     ]
    }
   ],
   "source": [
    "a='Hello World'\n",
    "b=\"Hello World\"\n",
    "c='\"Hello World\"'\n",
    "print(type(a))\n",
    "print(type(b))\n",
    "print(type(c))"
   ]
  },
  {
   "cell_type": "code",
   "execution_count": 3,
   "id": "381290f0",
   "metadata": {},
   "outputs": [
    {
     "name": "stdout",
     "output_type": "stream",
     "text": [
      "HelloWorld\n"
     ]
    }
   ],
   "source": [
    "a='Hello'\n",
    "b=\"World\"\n",
    "c=a+b\n",
    "print(c)"
   ]
  },
  {
   "cell_type": "code",
   "execution_count": 4,
   "id": "6f60dae8",
   "metadata": {},
   "outputs": [
    {
     "name": "stdout",
     "output_type": "stream",
     "text": [
      "Enter a:abc\n",
      "abc\n"
     ]
    }
   ],
   "source": [
    "a=input(\"Enter a:\")\n",
    "print(a)"
   ]
  },
  {
   "cell_type": "code",
   "execution_count": 8,
   "id": "c80c908e",
   "metadata": {},
   "outputs": [
    {
     "name": "stdout",
     "output_type": "stream",
     "text": [
      "H\n",
      "Hello\n",
      "HloWr\n"
     ]
    }
   ],
   "source": [
    "a=\"Hello World\"\n",
    "print(a[0])\n",
    "print(a[0:5])\n",
    "print(a[0:10:2])"
   ]
  },
  {
   "cell_type": "code",
   "execution_count": 9,
   "id": "b9a3d73a",
   "metadata": {},
   "outputs": [
    {
     "name": "stdout",
     "output_type": "stream",
     "text": [
      "d\n"
     ]
    }
   ],
   "source": [
    "a=\"Hello World\"\n",
    "print(a[-1])"
   ]
  },
  {
   "cell_type": "code",
   "execution_count": 11,
   "id": "3ce20087",
   "metadata": {},
   "outputs": [
    {
     "name": "stdout",
     "output_type": "stream",
     "text": [
      "l\n"
     ]
    }
   ],
   "source": [
    "a=\"Hello World\"\n",
    "print(a[-2])"
   ]
  },
  {
   "cell_type": "code",
   "execution_count": 12,
   "id": "6883b4ca",
   "metadata": {},
   "outputs": [
    {
     "name": "stdout",
     "output_type": "stream",
     "text": [
      "dlroW olleH\n"
     ]
    }
   ],
   "source": [
    "a=\"Hello World\"\n",
    "print(a[::-1])"
   ]
  },
  {
   "cell_type": "code",
   "execution_count": 14,
   "id": "4370239a",
   "metadata": {},
   "outputs": [
    {
     "name": "stdout",
     "output_type": "stream",
     "text": [
      "dlroW olleH\n",
      "dlroW olleH\n"
     ]
    }
   ],
   "source": [
    "a=\"Hello World\"\n",
    "print(a[-1:-12:-1])   #if no of letter is known\n",
    "print(a[::-1])   #if no of letter is unknown"
   ]
  },
  {
   "cell_type": "code",
   "execution_count": 16,
   "id": "b906589c",
   "metadata": {},
   "outputs": [
    {
     "name": "stdout",
     "output_type": "stream",
     "text": [
      "Hello World"
     ]
    }
   ],
   "source": [
    "a=\"Hello World\"\n",
    "l=len(a)\n",
    "for i in range(l):\n",
    "    print(a[i],end=\"\")"
   ]
  },
  {
   "cell_type": "code",
   "execution_count": 1,
   "id": "9365770b",
   "metadata": {},
   "outputs": [
    {
     "name": "stdout",
     "output_type": "stream",
     "text": [
      "Hello World. Im SD. Im from KTM and 17 yrs of age\n"
     ]
    }
   ],
   "source": [
    "n='SD'\n",
    "ag=17\n",
    "ad='KTM'\n",
    "\n",
    "info='Hello World. Im '+n+'. Im from '+ad+' and '+str(ag)+ ' yrs of age'\n",
    "print(info)\n"
   ]
  },
  {
   "cell_type": "code",
   "execution_count": 3,
   "id": "eb543cf5",
   "metadata": {},
   "outputs": [
    {
     "name": "stdout",
     "output_type": "stream",
     "text": [
      "Enter yr namesd\n",
      "Enter yr age17\n",
      "Enter yr addressktm\n",
      "Hello world, I am sd. Im from ktm. Im 17\n"
     ]
    }
   ],
   "source": [
    "#string formatting\n",
    "n=input(\"Enter yr name\")\n",
    "ag=int(input(\"Enter yr age\"))\n",
    "ad=input(\"Enter yr address\")\n",
    "\n",
    "info=f\"Hello world, I am {n}. Im from {ad}. Im {ag}\" \n",
    "print(info)"
   ]
  },
  {
   "cell_type": "code",
   "execution_count": 4,
   "id": "8b1b1bf7",
   "metadata": {},
   "outputs": [
    {
     "name": "stdout",
     "output_type": "stream",
     "text": [
      "Enter total no of items:2\n",
      "Enter product name:coke\n",
      "Enter price:100\n",
      "Enter quantity:2\n",
      "Enter product name:momo\n",
      "Enter price:100\n",
      "Enter quantity:1\n",
      "\n",
      "Name Pri Qty Tot\n",
      "coke 100 2 200\n",
      "momo 100 1 100\n",
      "\n",
      "Grand total: 300\n"
     ]
    }
   ],
   "source": [
    "#billing system\n",
    "gt=0\n",
    "z=\"\"\n",
    "a=int(input(\"Enter total no of items:\"))\n",
    "for i in range(a):\n",
    "    n=str(input(\"Enter product name:\"))\n",
    "    p=int(input(\"Enter price:\"))\n",
    "    q=int(input(\"Enter quantity:\"))\n",
    "    t=p*q\n",
    "    z=z+f\"{n} {p} {q} {t}\\n\"\n",
    "    gt=gt+t\n",
    "print(\"\\nName Pri Qty Tot\")\n",
    "print(z)\n",
    "print(\"Grand total:\",gt)"
   ]
  },
  {
   "cell_type": "code",
   "execution_count": 9,
   "id": "889a4b62",
   "metadata": {},
   "outputs": [
    {
     "name": "stdout",
     "output_type": "stream",
     "text": [
      "Enter name:sas\n",
      "There is no sas\n"
     ]
    }
   ],
   "source": [
    "#to search things in string\n",
    "a=\"ram shyam hari sita gita nabin\"\n",
    "n=input(\"Enter name:\")\n",
    "if n in a:\n",
    "    print(\"Yes\")\n",
    "    print(a.count(n))\n",
    "else:\n",
    "    print(\"There is no\",n)"
   ]
  },
  {
   "cell_type": "code",
   "execution_count": 12,
   "id": "64a3ad93",
   "metadata": {},
   "outputs": [
    {
     "name": "stdout",
     "output_type": "stream",
     "text": [
      "RAM SHYAM HARI SITA GITA NABIN\n",
      "ram shyam hari sita gita nabin\n",
      "Ram Shyam Hari Sita Gita Nabin\n"
     ]
    }
   ],
   "source": [
    "a=\"Ram Shyam Hari Sita Gita Nabin\"\n",
    "print(a.upper())\n",
    "print(a.lower())\n",
    "print(a)"
   ]
  },
  {
   "cell_type": "code",
   "execution_count": 14,
   "id": "f28159c1",
   "metadata": {},
   "outputs": [
    {
     "name": "stdout",
     "output_type": "stream",
     "text": [
      "Enter name:ram\n",
      "Yes\n",
      "3\n"
     ]
    }
   ],
   "source": [
    "#to search things in string\n",
    "a=\"Ram Shyam Hari Sita Gita Nabin Ram Akash Ramesh\".lower()  #ram in ramesh\n",
    "n=input(\"Enter name:\")\n",
    "if n in a:\n",
    "    print(\"Yes\")\n",
    "    print(a.count(n))\n",
    "else:\n",
    "    print(\"There is no\",n)"
   ]
  },
  {
   "cell_type": "code",
   "execution_count": 16,
   "id": "c64a781e",
   "metadata": {},
   "outputs": [
    {
     "name": "stdout",
     "output_type": "stream",
     "text": [
      "ram Shyam Hari Sita Gita Nabin ram Akash ramesh\n"
     ]
    }
   ],
   "source": [
    "#replace\n",
    "a=\"Ram Shyam Hari Sita Gita Nabin Ram Akash Ramesh\"\n",
    "a=a.replace(\"Ram\",\"ram\")\n",
    "print(a)"
   ]
  },
  {
   "cell_type": "code",
   "execution_count": 17,
   "id": "f41167ff",
   "metadata": {},
   "outputs": [
    {
     "name": "stdout",
     "output_type": "stream",
     "text": [
      "ram Shyam Hari Sita Gita Nabin ram Akash Ramesh\n"
     ]
    }
   ],
   "source": [
    "#replace\n",
    "a=\"Ram Shyam Hari Sita Gita Nabin Ram Akash Ramesh\"\n",
    "a=a.replace(\"Ram \",\"ram \")\n",
    "print(a)"
   ]
  },
  {
   "cell_type": "code",
   "execution_count": 18,
   "id": "9ff90421",
   "metadata": {},
   "outputs": [
    {
     "name": "stdout",
     "output_type": "stream",
     "text": [
      " Shyam Hari Sita Gita Nabin  Akash esh\n"
     ]
    }
   ],
   "source": [
    "#remove\n",
    "a=\"Ram Shyam Hari Sita Gita Nabin Ram Akash Ramesh\"\n",
    "a=a.replace(\"Ram\",\"\")\n",
    "print(a)"
   ]
  },
  {
   "cell_type": "code",
   "execution_count": 19,
   "id": "1dc033cf",
   "metadata": {},
   "outputs": [
    {
     "name": "stdout",
     "output_type": "stream",
     "text": [
      "Shyam Hari Sita Gita Nabin Akash Ramesh\n"
     ]
    }
   ],
   "source": [
    "#remove\n",
    "a=\"Ram Shyam Hari Sita Gita Nabin Ram Akash Ramesh\"\n",
    "a=a.replace(\"Ram \",\"\")\n",
    "print(a)"
   ]
  },
  {
   "cell_type": "code",
   "execution_count": 20,
   "id": "686f6674",
   "metadata": {},
   "outputs": [
    {
     "data": {
      "text/plain": [
       "'Ram Shyam Hari Sita Gita Nabin'"
      ]
     },
     "execution_count": 20,
     "metadata": {},
     "output_type": "execute_result"
    }
   ],
   "source": [
    "a=\"ram shyam hari sita gita nabin\"\n",
    "a.title()"
   ]
  },
  {
   "cell_type": "code",
   "execution_count": 22,
   "id": "e55344a8",
   "metadata": {},
   "outputs": [
    {
     "data": {
      "text/plain": [
       "['ram', 'shyam', 'hari', 'sita', 'gita', 'nabin']"
      ]
     },
     "execution_count": 22,
     "metadata": {},
     "output_type": "execute_result"
    }
   ],
   "source": [
    "a=\"ram shyam hari sita gita nabin\"\n",
    "a.split()"
   ]
  },
  {
   "cell_type": "code",
   "execution_count": 24,
   "id": "5b256ca1",
   "metadata": {},
   "outputs": [
    {
     "name": "stdout",
     "output_type": "stream",
     "text": [
      "hello world"
     ]
    }
   ],
   "source": [
    "a=\"hello world\"\n",
    "l=len(a)\n",
    "i=0\n",
    "while i<l:\n",
    "    print(a[i],end=\"\")\n",
    "    i=i+1"
   ]
  },
  {
   "cell_type": "code",
   "execution_count": null,
   "id": "cf4620b6",
   "metadata": {},
   "outputs": [],
   "source": []
  }
 ],
 "metadata": {
  "kernelspec": {
   "display_name": "Python 3 (ipykernel)",
   "language": "python",
   "name": "python3"
  },
  "language_info": {
   "codemirror_mode": {
    "name": "ipython",
    "version": 3
   },
   "file_extension": ".py",
   "mimetype": "text/x-python",
   "name": "python",
   "nbconvert_exporter": "python",
   "pygments_lexer": "ipython3",
   "version": "3.11.3"
  }
 },
 "nbformat": 4,
 "nbformat_minor": 5
}
