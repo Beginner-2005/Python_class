{
 "cells": [
  {
   "cell_type": "code",
   "execution_count": 1,
   "id": "ea20c13f",
   "metadata": {},
   "outputs": [],
   "source": [
    "# # Set\n",
    "# -No indexing\n",
    "# -Multiple value but no duplicate value\n",
    "# -Unordered\n",
    "# -Mutable"
   ]
  },
  {
   "cell_type": "code",
   "execution_count": 3,
   "id": "a62548df",
   "metadata": {},
   "outputs": [
    {
     "name": "stdout",
     "output_type": "stream",
     "text": [
      "<class 'set'>\n",
      "{1, 2, 3, 4, 5, 6, 7, 8, 9}\n"
     ]
    }
   ],
   "source": [
    "s={1,2,3,4,5,6,7,8,9}\n",
    "print(type(s))\n",
    "print(s)"
   ]
  },
  {
   "cell_type": "code",
   "execution_count": 4,
   "id": "b91695af",
   "metadata": {},
   "outputs": [
    {
     "data": {
      "text/plain": [
       "set()"
      ]
     },
     "execution_count": 4,
     "metadata": {},
     "output_type": "execute_result"
    }
   ],
   "source": [
    "# a=()    <-- dictionary\n",
    "a=set()\n",
    "a"
   ]
  },
  {
   "cell_type": "code",
   "execution_count": 5,
   "id": "016b0e42",
   "metadata": {},
   "outputs": [
    {
     "name": "stdout",
     "output_type": "stream",
     "text": [
      "{'Cat', 'Apple', 'Ball', 'Fish', 'Goat', 'Dog'}\n"
     ]
    }
   ],
   "source": [
    "a={\"Apple\",\"Ball\",\"Cat\",\"Dog\",\"Fish\",\"Goat\"}\n",
    "print(a)"
   ]
  },
  {
   "cell_type": "code",
   "execution_count": 6,
   "id": "8c311fe7",
   "metadata": {},
   "outputs": [
    {
     "ename": "TypeError",
     "evalue": "'set' object is not subscriptable",
     "output_type": "error",
     "traceback": [
      "\u001b[0;31m---------------------------------------------------------------------------\u001b[0m",
      "\u001b[0;31mTypeError\u001b[0m                                 Traceback (most recent call last)",
      "Cell \u001b[0;32mIn[6], line 1\u001b[0m\n\u001b[0;32m----> 1\u001b[0m a[\u001b[38;5;241m0\u001b[39m]\n",
      "\u001b[0;31mTypeError\u001b[0m: 'set' object is not subscriptable"
     ]
    }
   ],
   "source": [
    "a[0]"
   ]
  },
  {
   "cell_type": "code",
   "execution_count": 8,
   "id": "1d235c23",
   "metadata": {},
   "outputs": [
    {
     "name": "stdout",
     "output_type": "stream",
     "text": [
      "Cat\n",
      "Apple\n",
      "Ball\n",
      "Fish\n",
      "Goat\n",
      "Dog\n"
     ]
    }
   ],
   "source": [
    "a={\"Apple\",\"Ball\",\"Cat\",\"Dog\",\"Fish\",\"Goat\"}\n",
    "for i in a:\n",
    "    print(i)"
   ]
  },
  {
   "cell_type": "code",
   "execution_count": 2,
   "id": "396694a7",
   "metadata": {},
   "outputs": [
    {
     "data": {
      "text/plain": [
       "{'Apple', 'Ball', 'Cat', 'Dog', 'Fish', 'Goat'}"
      ]
     },
     "execution_count": 2,
     "metadata": {},
     "output_type": "execute_result"
    }
   ],
   "source": [
    "a={\"Apple\",\"Ball\",\"Cat\",\"Dog\",\"Fish\",\"Goat\",\"Apple\",\"Cat\"}\n",
    "a"
   ]
  },
  {
   "cell_type": "code",
   "execution_count": 3,
   "id": "473bf2b2",
   "metadata": {},
   "outputs": [],
   "source": [
    "# Set funcn:\n",
    "#     add()\n",
    "#     remove()\n",
    "#     update"
   ]
  },
  {
   "cell_type": "code",
   "execution_count": 5,
   "id": "7efba502",
   "metadata": {},
   "outputs": [
    {
     "data": {
      "text/plain": [
       "{'Apple', 'Ball', 'Cat'}"
      ]
     },
     "execution_count": 5,
     "metadata": {},
     "output_type": "execute_result"
    }
   ],
   "source": [
    "s=set()\n",
    "s.add(\"Apple\")\n",
    "s.add(\"Ball\")\n",
    "s.add(\"Cat\")\n",
    "s"
   ]
  },
  {
   "cell_type": "code",
   "execution_count": 11,
   "id": "326d9e3d",
   "metadata": {},
   "outputs": [
    {
     "name": "stdout",
     "output_type": "stream",
     "text": [
      "Enter n:2\n",
      "Enter valueab\n",
      "Enter valuecd\n",
      "{'cd', 'ab'}\n"
     ]
    }
   ],
   "source": [
    "# WAP to create set taking values from users\n",
    "a=set()\n",
    "n=int(input(\"Enter n:\"))\n",
    "for i in range(n):\n",
    "    x=input(\"Enter value: \")\n",
    "    a.add(x)\n",
    "    \n",
    "print(a)"
   ]
  },
  {
   "cell_type": "code",
   "execution_count": 7,
   "id": "318b820e",
   "metadata": {},
   "outputs": [
    {
     "data": {
      "text/plain": [
       "{1, 2, 3, 4, 5, 'Apple', 'Ball', 'Cat'}"
      ]
     },
     "execution_count": 7,
     "metadata": {},
     "output_type": "execute_result"
    }
   ],
   "source": [
    "a={\"Apple\",\"Ball\",\"Cat\"}\n",
    "b={1,2,3,4,5}\n",
    "a.update(b)\n",
    "a"
   ]
  },
  {
   "cell_type": "code",
   "execution_count": 12,
   "id": "9786c5fe",
   "metadata": {},
   "outputs": [],
   "source": [
    "# intersection()\n",
    "# union()\n",
    "# difference()"
   ]
  },
  {
   "cell_type": "code",
   "execution_count": 13,
   "id": "6f98fba7",
   "metadata": {},
   "outputs": [
    {
     "data": {
      "text/plain": [
       "{'css', 'django', 'html', 'python'}"
      ]
     },
     "execution_count": 13,
     "metadata": {},
     "output_type": "execute_result"
    }
   ],
   "source": [
    "sk={\"python\",\"html\",\"django\",\"css\",\"js\"}\n",
    "jb={\"python\",\"django\",\"html\",\"css\",\"java\",\"c\",\"c++\",\".net\"}\n",
    "\n",
    "sk.intersection(jb)    #common values\n"
   ]
  },
  {
   "cell_type": "code",
   "execution_count": 14,
   "id": "711075b0",
   "metadata": {},
   "outputs": [
    {
     "data": {
      "text/plain": [
       "{'.net', 'c', 'c++', 'css', 'django', 'html', 'java', 'js', 'python'}"
      ]
     },
     "execution_count": 14,
     "metadata": {},
     "output_type": "execute_result"
    }
   ],
   "source": [
    "sk.union(jb)"
   ]
  },
  {
   "cell_type": "code",
   "execution_count": 15,
   "id": "1fed9d4f",
   "metadata": {},
   "outputs": [
    {
     "data": {
      "text/plain": [
       "{'js'}"
      ]
     },
     "execution_count": 15,
     "metadata": {},
     "output_type": "execute_result"
    }
   ],
   "source": [
    "# skills in u but not in job\n",
    "sk.difference(jb)     #skills-job"
   ]
  },
  {
   "cell_type": "code",
   "execution_count": 16,
   "id": "7009d9eb",
   "metadata": {},
   "outputs": [
    {
     "data": {
      "text/plain": [
       "{'.net', 'c', 'c++', 'java'}"
      ]
     },
     "execution_count": 16,
     "metadata": {},
     "output_type": "execute_result"
    }
   ],
   "source": [
    "# skills in job but not in u\n",
    "jb.difference(sk)     #job-skills"
   ]
  },
  {
   "cell_type": "code",
   "execution_count": 1,
   "id": "e8a163f7",
   "metadata": {},
   "outputs": [],
   "source": [
    "# No mutable datatype inside set\n",
    "# inside set -no list, dict, set but only tuple"
   ]
  },
  {
   "cell_type": "code",
   "execution_count": 2,
   "id": "d4647c2d",
   "metadata": {},
   "outputs": [
    {
     "ename": "TypeError",
     "evalue": "unhashable type: 'list'",
     "output_type": "error",
     "traceback": [
      "\u001b[0;31m---------------------------------------------------------------------------\u001b[0m",
      "\u001b[0;31mTypeError\u001b[0m                                 Traceback (most recent call last)",
      "Cell \u001b[0;32mIn[2], line 1\u001b[0m\n\u001b[0;32m----> 1\u001b[0m s\u001b[38;5;241m=\u001b[39m{[\u001b[38;5;241m1\u001b[39m,\u001b[38;5;241m2\u001b[39m,\u001b[38;5;241m3\u001b[39m],[\u001b[38;5;241m4\u001b[39m,\u001b[38;5;241m5\u001b[39m,\u001b[38;5;241m6\u001b[39m]}\n\u001b[1;32m      2\u001b[0m s\n",
      "\u001b[0;31mTypeError\u001b[0m: unhashable type: 'list'"
     ]
    }
   ],
   "source": [
    "s={[1,2,3],[4,5,6]}\n",
    "s"
   ]
  },
  {
   "cell_type": "code",
   "execution_count": 3,
   "id": "38a6a7c6",
   "metadata": {},
   "outputs": [
    {
     "ename": "TypeError",
     "evalue": "unhashable type: 'set'",
     "output_type": "error",
     "traceback": [
      "\u001b[0;31m---------------------------------------------------------------------------\u001b[0m",
      "\u001b[0;31mTypeError\u001b[0m                                 Traceback (most recent call last)",
      "Cell \u001b[0;32mIn[3], line 1\u001b[0m\n\u001b[0;32m----> 1\u001b[0m s\u001b[38;5;241m=\u001b[39m{{\u001b[38;5;241m1\u001b[39m,\u001b[38;5;241m2\u001b[39m,\u001b[38;5;241m3\u001b[39m},{\u001b[38;5;241m4\u001b[39m,\u001b[38;5;241m5\u001b[39m,\u001b[38;5;241m6\u001b[39m}}\n\u001b[1;32m      2\u001b[0m s\n",
      "\u001b[0;31mTypeError\u001b[0m: unhashable type: 'set'"
     ]
    }
   ],
   "source": [
    "s={{1,2,3},{4,5,6}}\n",
    "s"
   ]
  },
  {
   "cell_type": "code",
   "execution_count": 4,
   "id": "091baff7",
   "metadata": {},
   "outputs": [
    {
     "data": {
      "text/plain": [
       "{(1, 2, 3), (4, 5, 6)}"
      ]
     },
     "execution_count": 4,
     "metadata": {},
     "output_type": "execute_result"
    }
   ],
   "source": [
    "s={(1,2,3),(4,5,6)}\n",
    "s"
   ]
  },
  {
   "cell_type": "code",
   "execution_count": null,
   "id": "d3bad16d",
   "metadata": {},
   "outputs": [],
   "source": []
  }
 ],
 "metadata": {
  "kernelspec": {
   "display_name": "Python 3 (ipykernel)",
   "language": "python",
   "name": "python3"
  },
  "language_info": {
   "codemirror_mode": {
    "name": "ipython",
    "version": 3
   },
   "file_extension": ".py",
   "mimetype": "text/x-python",
   "name": "python",
   "nbconvert_exporter": "python",
   "pygments_lexer": "ipython3",
   "version": "3.11.3"
  }
 },
 "nbformat": 4,
 "nbformat_minor": 5
}
