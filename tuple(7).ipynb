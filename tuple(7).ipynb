{
 "cells": [
  {
   "cell_type": "code",
   "execution_count": 1,
   "id": "0c26125b",
   "metadata": {},
   "outputs": [],
   "source": [
    "# #tuple\n",
    "# -indexing\n",
    "# -ordered\n",
    "# -multiple and dulicate data\n",
    "# -Imutable"
   ]
  },
  {
   "cell_type": "code",
   "execution_count": 2,
   "id": "bc404623",
   "metadata": {},
   "outputs": [
    {
     "name": "stdout",
     "output_type": "stream",
     "text": [
      "<class 'tuple'>\n",
      "(1, 2, 3, 4, 5, 6, 7, 8, 9)\n"
     ]
    }
   ],
   "source": [
    "a=(1,2,3,4,5,6,7,8,9)\n",
    "print(type(a))\n",
    "print(a)"
   ]
  },
  {
   "cell_type": "code",
   "execution_count": 7,
   "id": "f5be3c4f",
   "metadata": {},
   "outputs": [
    {
     "name": "stdout",
     "output_type": "stream",
     "text": [
      "Apple\n",
      "('Apple', 'Ball', 'Cat', 'Dog', 'Fish')\n",
      "('Apple', 'Cat', 'Fish')\n"
     ]
    }
   ],
   "source": [
    "a=(\"Apple\",\"Ball\",\"Cat\",\"Dog\",\"Fish\",\"Apple\")\n",
    "print(a[0])\n",
    "print(a[0:5])\n",
    "print(a[0:6:2])"
   ]
  },
  {
   "cell_type": "code",
   "execution_count": 8,
   "id": "f77a6a6a",
   "metadata": {},
   "outputs": [],
   "source": [
    "gender=(\"Male\",\"Female\",\"Other\")\n"
   ]
  },
  {
   "cell_type": "code",
   "execution_count": 12,
   "id": "9cb399d2",
   "metadata": {},
   "outputs": [
    {
     "name": "stdout",
     "output_type": "stream",
     "text": [
      "<class 'tuple'>\n"
     ]
    }
   ],
   "source": [
    "a=(2,)     #<--- coma(,) is needed to show it is a tuple in case of single value\n",
    "# a=tuple()\n",
    "print(type(a))"
   ]
  },
  {
   "cell_type": "code",
   "execution_count": 14,
   "id": "80a5a2fb",
   "metadata": {},
   "outputs": [],
   "source": [
    "# No append() insert() extend()\n",
    "# No update\n",
    "# No sort()\n",
    "# No del() remove() pop()"
   ]
  },
  {
   "cell_type": "code",
   "execution_count": 16,
   "id": "f1c0aeb0",
   "metadata": {},
   "outputs": [
    {
     "name": "stdout",
     "output_type": "stream",
     "text": [
      "Enter n:3\n",
      "Enter x:2\n",
      "Enter x:5\n",
      "Enter x:23\n",
      "(2, 5, 23)\n"
     ]
    }
   ],
   "source": [
    "t=()\n",
    "n=int(input(\"Enter n:\"))\n",
    "for i in range(n):\n",
    "    x=int(input(\"Enter x:\"))\n",
    "    t=t+(x,)\n",
    "    \n",
    "print(t)"
   ]
  },
  {
   "cell_type": "code",
   "execution_count": 17,
   "id": "a62c5f92",
   "metadata": {},
   "outputs": [
    {
     "name": "stdout",
     "output_type": "stream",
     "text": [
      "2\n",
      "542\n",
      "1016\n"
     ]
    }
   ],
   "source": [
    "a=(2, 5, 23, 354,3,542,42,23,22)\n",
    "print(min(a))\n",
    "print(max(a))\n",
    "print(sum(a))"
   ]
  },
  {
   "cell_type": "code",
   "execution_count": 18,
   "id": "189859e7",
   "metadata": {},
   "outputs": [
    {
     "data": {
      "text/plain": [
       "[2, 5, 23, 354, 3, 542, 42, 23, 22]"
      ]
     },
     "execution_count": 18,
     "metadata": {},
     "output_type": "execute_result"
    }
   ],
   "source": [
    "a=(2, 5, 23, 354,3,542,42,23,22)\n",
    "b=list(a)\n",
    "b"
   ]
  },
  {
   "cell_type": "code",
   "execution_count": 19,
   "id": "53afc019",
   "metadata": {},
   "outputs": [
    {
     "name": "stdout",
     "output_type": "stream",
     "text": [
      "(5, 23, 354, 3, 542, 42, 23, 22)\n"
     ]
    }
   ],
   "source": [
    "a=(2, 5, 23, 354,3,542,42,23,22)\n",
    "b=list(a)\n",
    "b\n",
    "del b[0]\n",
    "a=tuple(b)\n",
    "print(a)"
   ]
  },
  {
   "cell_type": "code",
   "execution_count": 20,
   "id": "9155705b",
   "metadata": {},
   "outputs": [
    {
     "data": {
      "text/plain": [
       "[(1, 2, 3), (4, 5, 6, 7), (8, 9, 0)]"
      ]
     },
     "execution_count": 20,
     "metadata": {},
     "output_type": "execute_result"
    }
   ],
   "source": [
    "#tuple inside list\n",
    "l=[(1,2,3),\n",
    "  (4,5,6,7),\n",
    "  (8,9,0)]\n",
    "l"
   ]
  },
  {
   "cell_type": "code",
   "execution_count": 21,
   "id": "ca557bca",
   "metadata": {},
   "outputs": [
    {
     "data": {
      "text/plain": [
       "([1, 2, 3], [4, 5, 6], [7, 8, 9])"
      ]
     },
     "execution_count": 21,
     "metadata": {},
     "output_type": "execute_result"
    }
   ],
   "source": [
    "#list inside tuple\n",
    "t=([1,2,3],\n",
    "  [4,5,6],\n",
    "  [7,8,9])\n",
    "t"
   ]
  },
  {
   "cell_type": "code",
   "execution_count": 22,
   "id": "7325f9b9",
   "metadata": {},
   "outputs": [
    {
     "data": {
      "text/plain": [
       "((1, 2, 3), (4, 5, 6), (7, 8, 9))"
      ]
     },
     "execution_count": 22,
     "metadata": {},
     "output_type": "execute_result"
    }
   ],
   "source": [
    "#Tuple inside tuple\n",
    "t=((1,2,3),\n",
    "  (4,5,6),\n",
    "  (7,8,9))\n",
    "t"
   ]
  },
  {
   "cell_type": "code",
   "execution_count": 23,
   "id": "e7164254",
   "metadata": {},
   "outputs": [
    {
     "data": {
      "text/plain": [
       "[[1, 2, 3], [4, 5, 6], [7, 8, 9]]"
      ]
     },
     "execution_count": 23,
     "metadata": {},
     "output_type": "execute_result"
    }
   ],
   "source": [
    "data=[]\n",
    "l=list(t)\n",
    "for i in l:\n",
    "    data.append(list(i))\n",
    "    \n",
    "data"
   ]
  },
  {
   "cell_type": "code",
   "execution_count": null,
   "id": "19ada09f",
   "metadata": {},
   "outputs": [],
   "source": []
  },
  {
   "cell_type": "code",
   "execution_count": 3,
   "id": "30f00621",
   "metadata": {},
   "outputs": [
    {
     "name": "stdout",
     "output_type": "stream",
     "text": [
      "((1, 2, 3), (4, 5, 6), (7, 8, 9))\n"
     ]
    }
   ],
   "source": [
    "# WAP to convert list inside list to tuple inside tuple\n",
    "a=[[1, 2, 3], [4, 5, 6], [7, 8, 9]]\n",
    "t=()\n",
    "for i in a:\n",
    "    t=t+(tuple(i),)\n",
    "print(t)"
   ]
  },
  {
   "cell_type": "code",
   "execution_count": null,
   "id": "fcb62996",
   "metadata": {},
   "outputs": [],
   "source": []
  }
 ],
 "metadata": {
  "kernelspec": {
   "display_name": "Python 3 (ipykernel)",
   "language": "python",
   "name": "python3"
  },
  "language_info": {
   "codemirror_mode": {
    "name": "ipython",
    "version": 3
   },
   "file_extension": ".py",
   "mimetype": "text/x-python",
   "name": "python",
   "nbconvert_exporter": "python",
   "pygments_lexer": "ipython3",
   "version": "3.11.3"
  }
 },
 "nbformat": 4,
 "nbformat_minor": 5
}
