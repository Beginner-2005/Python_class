{
 "cells": [
  {
   "cell_type": "code",
   "execution_count": 1,
   "id": "19fd7de5",
   "metadata": {},
   "outputs": [],
   "source": [
    "# Python collection\n",
    "# -list\n",
    "# -Tuple\n",
    "# -Dictionary\n",
    "# -Set"
   ]
  },
  {
   "cell_type": "code",
   "execution_count": 2,
   "id": "874d9ca6",
   "metadata": {},
   "outputs": [],
   "source": [
    "# list\n",
    "# -Indexing\n",
    "# -Duplicate and multiple values\n",
    "# -Ordered\n",
    "# -Mutable"
   ]
  },
  {
   "cell_type": "code",
   "execution_count": 3,
   "id": "a6cc6a7f",
   "metadata": {},
   "outputs": [],
   "source": [
    "l=list()\n",
    "l=[]"
   ]
  },
  {
   "cell_type": "code",
   "execution_count": 4,
   "id": "23e35514",
   "metadata": {},
   "outputs": [
    {
     "name": "stdout",
     "output_type": "stream",
     "text": [
      "<class 'list'>\n",
      "<class 'list'>\n"
     ]
    }
   ],
   "source": [
    "a=[1,2,3,4,5,6,7,8,9]\n",
    "b=[\"Apple\",\"Ball\",\"cat\",\"Dog\",\"Fish\"]\n",
    "print(type(a))\n",
    "print(type(b))"
   ]
  },
  {
   "cell_type": "code",
   "execution_count": 6,
   "id": "3310ef08",
   "metadata": {},
   "outputs": [
    {
     "name": "stdout",
     "output_type": "stream",
     "text": [
      "Apple\n",
      "['Apple', 'Ball', 'cat', 'Dog', 'Fish']\n",
      "['Apple', 'cat', 'Fish']\n"
     ]
    }
   ],
   "source": [
    "a=[\"Apple\",\"Ball\",\"cat\",\"Dog\",\"Fish\"]   # value can be repeated\n",
    "print(a[0])       #5 cant be written here i.e. a[5]\n",
    "print(a[0:40])    #5 can be wwritten here\n",
    "print(a[0:5:2])"
   ]
  },
  {
   "cell_type": "code",
   "execution_count": 7,
   "id": "6363bf33",
   "metadata": {},
   "outputs": [
    {
     "name": "stdout",
     "output_type": "stream",
     "text": [
      "[1, 2, 3, 4, 5, 6, 7, 8]\n"
     ]
    }
   ],
   "source": [
    "# + \n",
    "a=[1,2,3,4]\n",
    "b=[5,6,7,8]\n",
    "c=a+b\n",
    "print(c)"
   ]
  },
  {
   "cell_type": "code",
   "execution_count": 9,
   "id": "8fab4d8c",
   "metadata": {},
   "outputs": [
    {
     "name": "stdout",
     "output_type": "stream",
     "text": [
      "[1, 2, 3, 4, 1, 2, 3, 4, 1, 2, 3, 4]\n"
     ]
    }
   ],
   "source": [
    "# *       (list must be multiplied by integer only)\n",
    "a=[1,2,3,4]\n",
    "b=3\n",
    "c=a*b\n",
    "print(c)"
   ]
  },
  {
   "cell_type": "code",
   "execution_count": 14,
   "id": "040b3ac0",
   "metadata": {
    "scrolled": true
   },
   "outputs": [
    {
     "name": "stdout",
     "output_type": "stream",
     "text": [
      "Enter n:3\n",
      "Enter x:1\n",
      "Enter x:5\n",
      "Enter x:3\n",
      "[1, 5, 3]\n",
      "The sum= 9\n",
      "The maximum= 5\n",
      "The minimum= 1\n",
      "The average= 3.0\n",
      "[1, 3, 5]\n",
      "[5, 3, 1]\n"
     ]
    }
   ],
   "source": [
    "\n",
    "l=[]\n",
    "n=int(input(\"Enter n:\"))\n",
    "for i in range(n):\n",
    "    x=int(input(\"Enter x:\"))\n",
    "    l=l+[x]\n",
    "    \n",
    "print(l)\n",
    "print(\"The sum=\",sum(l))\n",
    "print(\"The maximum=\",max(l))\n",
    "print(\"The minimum=\",min(l))\n",
    "print(\"The average=\",sum(l)/n)\n",
    "l.sort()      #<---sorts in ascending order and saves in l\n",
    "print(l)\n",
    "l.reverse()   #<---first ascending and then only descending\n",
    "print(l)"
   ]
  },
  {
   "cell_type": "code",
   "execution_count": 15,
   "id": "b577571c",
   "metadata": {},
   "outputs": [
    {
     "name": "stdout",
     "output_type": "stream",
     "text": [
      "['Apple', 'Apple', 'Ball', 'Dog', 'Fish', 'cat']\n"
     ]
    }
   ],
   "source": [
    "a=[\"Apple\",\"Ball\",\"cat\",\"Dog\",\"Fish\",\"Apple\"]\n",
    "a.sort()\n",
    "print(a)"
   ]
  },
  {
   "cell_type": "code",
   "execution_count": 16,
   "id": "f2511ab2",
   "metadata": {},
   "outputs": [
    {
     "name": "stdout",
     "output_type": "stream",
     "text": [
      "Apple\n",
      "Ball\n",
      "cat\n",
      "Dog\n",
      "Fish\n"
     ]
    }
   ],
   "source": [
    "#loop in list\n",
    "a=[\"Apple\",\"Ball\",\"cat\",\"Dog\",\"Fish\"]\n",
    "for i in a:\n",
    "    print(i)"
   ]
  },
  {
   "cell_type": "code",
   "execution_count": 20,
   "id": "0681d597",
   "metadata": {},
   "outputs": [
    {
     "name": "stdout",
     "output_type": "stream",
     "text": [
      "Apple\n",
      "Ball\n",
      "cat\n",
      "Dog\n"
     ]
    }
   ],
   "source": [
    "i=0\n",
    "a=[\"Apple\",\"Ball\",\"cat\",\"Dog\"]\n",
    "l=len(a)\n",
    "while i<l:\n",
    "    print(a[i])\n",
    "    i=i+1\n",
    "    "
   ]
  },
  {
   "cell_type": "code",
   "execution_count": 21,
   "id": "2db88123",
   "metadata": {},
   "outputs": [],
   "source": [
    "# insert values\n",
    "# append(), insert(), extend()\n",
    "\n",
    "# delete values\n",
    "# del remove(), pop()"
   ]
  },
  {
   "cell_type": "code",
   "execution_count": 22,
   "id": "9b55a611",
   "metadata": {},
   "outputs": [
    {
     "data": {
      "text/plain": [
       "['Apple', 'Ball', 'Dog']"
      ]
     },
     "execution_count": 22,
     "metadata": {},
     "output_type": "execute_result"
    }
   ],
   "source": [
    "a=[]\n",
    "a.append(\"Apple\")\n",
    "a.append(\"Ball\")\n",
    "a.append(\"Dog\")\n",
    "a"
   ]
  },
  {
   "cell_type": "code",
   "execution_count": 24,
   "id": "a354de00",
   "metadata": {},
   "outputs": [
    {
     "name": "stdout",
     "output_type": "stream",
     "text": [
      "Enter n:2\n",
      "Enter x:1\n",
      "Enter x:5\n",
      "[1, 5]\n"
     ]
    }
   ],
   "source": [
    "l=[]\n",
    "n=int(input(\"Enter n:\"))\n",
    "for i in range(n):\n",
    "    x=int(input(\"Enter x:\"))\n",
    "    l.append(x)\n",
    "print(l)"
   ]
  },
  {
   "cell_type": "code",
   "execution_count": 26,
   "id": "b2467078",
   "metadata": {},
   "outputs": [
    {
     "data": {
      "text/plain": [
       "['Apple', 'apple', 'Apple', 'Fish', 'Fish', 'cat', 'cat']"
      ]
     },
     "execution_count": 26,
     "metadata": {},
     "output_type": "execute_result"
    }
   ],
   "source": [
    "#insert()\n",
    "a=[\"Apple\",\"Apple\",\"Fish\",\"Fish\",\"cat\",\"cat\"]\n",
    "a.insert(1,\"apple\")\n",
    "a"
   ]
  },
  {
   "cell_type": "code",
   "execution_count": 29,
   "id": "9eefdc43",
   "metadata": {},
   "outputs": [
    {
     "data": {
      "text/plain": [
       "[1, 2, 3, 4, 5, 6]"
      ]
     },
     "execution_count": 29,
     "metadata": {},
     "output_type": "execute_result"
    }
   ],
   "source": [
    "#extend()\n",
    "a=[1,2,3]\n",
    "b=[4,5,6]\n",
    "a.extend(b)\n",
    "a"
   ]
  },
  {
   "cell_type": "code",
   "execution_count": 30,
   "id": "9ef4667e",
   "metadata": {},
   "outputs": [
    {
     "name": "stdout",
     "output_type": "stream",
     "text": [
      "['Apple', 'Fish', 'Fish', 'cat', 'cat']\n"
     ]
    }
   ],
   "source": [
    "# delete values\n",
    "# del remove(), pop()\n",
    "a=[\"Apple\",\"Apple\",\"Fish\",\"Fish\",\"cat\",\"cat\"]\n",
    "del a[0]\n",
    "print(a)"
   ]
  },
  {
   "cell_type": "code",
   "execution_count": 32,
   "id": "9280fa82",
   "metadata": {},
   "outputs": [
    {
     "data": {
      "text/plain": [
       "['Fish', 'cat', 'cat']"
      ]
     },
     "execution_count": 32,
     "metadata": {},
     "output_type": "execute_result"
    }
   ],
   "source": [
    "a=[\"Apple\",\"Apple\",\"Fish\",\"Fish\",\"cat\",\"cat\"]\n",
    "del a[0:3]\n",
    "a"
   ]
  },
  {
   "cell_type": "code",
   "execution_count": 33,
   "id": "86dafca3",
   "metadata": {},
   "outputs": [
    {
     "data": {
      "text/plain": [
       "[1, 2, 3, 4, 5, 6, 7, 8, 9]"
      ]
     },
     "execution_count": 33,
     "metadata": {},
     "output_type": "execute_result"
    }
   ],
   "source": [
    "a=[0,1,2,3,4,5,6,7,8,9]\n",
    "a.remove(0)\n",
    "a"
   ]
  },
  {
   "cell_type": "code",
   "execution_count": 35,
   "id": "f84c496b",
   "metadata": {},
   "outputs": [
    {
     "data": {
      "text/plain": [
       "['Apple', 'Fish', 'Fish', 'cat', 'cat']"
      ]
     },
     "execution_count": 35,
     "metadata": {},
     "output_type": "execute_result"
    }
   ],
   "source": [
    "a=[\"Apple\",\"Apple\",\"Fish\",\"Fish\",\"cat\",\"cat\"]\n",
    "a.remove(\"Apple\")\n",
    "a"
   ]
  },
  {
   "cell_type": "code",
   "execution_count": 36,
   "id": "f07f7eca",
   "metadata": {},
   "outputs": [
    {
     "data": {
      "text/plain": [
       "['Fish', 'Fish', 'cat', 'cat']"
      ]
     },
     "execution_count": 36,
     "metadata": {},
     "output_type": "execute_result"
    }
   ],
   "source": [
    "a=[\"Apple\",\"Apple\",\"Fish\",\"Fish\",\"cat\",\"cat\"]\n",
    "a.remove(\"Apple\")\n",
    "a.remove(\"Apple\")\n",
    "a"
   ]
  },
  {
   "cell_type": "code",
   "execution_count": 38,
   "id": "b5a913e4",
   "metadata": {},
   "outputs": [
    {
     "name": "stdout",
     "output_type": "stream",
     "text": [
      "['Fish', 'Fish', 'cat', 'cat']\n"
     ]
    }
   ],
   "source": [
    "a=[\"Apple\",\"Apple\",\"Fish\",\"Fish\",\"cat\",\"cat\"]\n",
    "c=a.count(\"Apple\")\n",
    "for i in range(c):\n",
    "    a.remove(\"Apple\")\n",
    "print(a)"
   ]
  },
  {
   "cell_type": "code",
   "execution_count": 39,
   "id": "6723d50a",
   "metadata": {},
   "outputs": [
    {
     "name": "stdout",
     "output_type": "stream",
     "text": [
      "['Apple', 'Fish', 'Fish', 'cat', 'cat']\n"
     ]
    }
   ],
   "source": [
    "#pop()\n",
    "a=[\"Apple\",\"Apple\",\"Fish\",\"Fish\",\"cat\",\"cat\"]\n",
    "a.pop(0)\n",
    "print(a)"
   ]
  },
  {
   "cell_type": "code",
   "execution_count": 4,
   "id": "d6e72e80",
   "metadata": {},
   "outputs": [
    {
     "name": "stdout",
     "output_type": "stream",
     "text": [
      "[[1, 2, 3], [4, 5, 6], [7, 8, 9]]\n",
      "[1, 2, 3]\n",
      "1\n"
     ]
    }
   ],
   "source": [
    "# list inside list\n",
    "a=[[1,2,3],[4,5,6],[7,8,9]]\n",
    "print(a)\n",
    "print(a[0])\n",
    "print(a[0][0])"
   ]
  },
  {
   "cell_type": "code",
   "execution_count": 7,
   "id": "4b9b981a",
   "metadata": {},
   "outputs": [
    {
     "name": "stdout",
     "output_type": "stream",
     "text": [
      "['Ram', 34, 'Ktm']\n",
      "Ram\n"
     ]
    }
   ],
   "source": [
    "a=[[\"Ram\",34,\"Ktm\"],\n",
    "  [\"Shyam\",30,\"Pkr\"],\n",
    "  [\"Sita\",25,\"Chi\"]]\n",
    "print(a[0])\n",
    "print(a[0][0])"
   ]
  },
  {
   "cell_type": "code",
   "execution_count": 1,
   "id": "e49e35c2",
   "metadata": {},
   "outputs": [
    {
     "name": "stdout",
     "output_type": "stream",
     "text": [
      "Enter n:3\n",
      "Enter nameabc\n",
      "Enter age22\n",
      "Enter addressktm\n",
      "Enter namedef\n",
      "Enter age12\n",
      "Enter addressasd\n",
      "Enter nameghi\n",
      "Enter age22\n",
      "Enter addressacdc\n",
      "[['abc', 22, 'ktm'], ['def', 12, 'asd'], ['ghi', 22, 'acdc']]\n"
     ]
    }
   ],
   "source": [
    "l=[]\n",
    "n=int(input(\"Enter n:\"))\n",
    "for i in range(n):\n",
    "    nm=input(\"Enter name\")\n",
    "    ag=int(input(\"Enter age\"))\n",
    "    ad=input(\"Enter address\")\n",
    "    info=[nm,ag,ad]\n",
    "    l.append(info)\n",
    "    \n",
    "print(l)"
   ]
  },
  {
   "cell_type": "code",
   "execution_count": 2,
   "id": "096bb985",
   "metadata": {},
   "outputs": [
    {
     "data": {
      "text/plain": [
       "[['abc', 22, 'ktm'],\n",
       " ['def', 12, 'asd'],\n",
       " ['ghi', 22, 'acdc'],\n",
       " ['New', 40, 'Jhp']]"
      ]
     },
     "execution_count": 2,
     "metadata": {},
     "output_type": "execute_result"
    }
   ],
   "source": [
    "l=[['abc', 22, 'ktm'], ['def', 12, 'asd'], ['ghi', 22, 'acdc']]\n",
    "# add new value\n",
    "l.append([\"New\",40,\"Jhp\"])\n",
    "l"
   ]
  },
  {
   "cell_type": "code",
   "execution_count": 3,
   "id": "59164627",
   "metadata": {},
   "outputs": [
    {
     "data": {
      "text/plain": [
       "[['Rama', 32, 'Chi'],\n",
       " ['def', 12, 'asd'],\n",
       " ['ghi', 22, 'acdc'],\n",
       " ['New', 40, 'Jhp']]"
      ]
     },
     "execution_count": 3,
     "metadata": {},
     "output_type": "execute_result"
    }
   ],
   "source": [
    "# update value\n",
    "l[0]=['Rama',32,\"Chi\"]\n",
    "l"
   ]
  },
  {
   "cell_type": "code",
   "execution_count": 4,
   "id": "0a531d02",
   "metadata": {},
   "outputs": [
    {
     "data": {
      "text/plain": [
       "[['Ram prasad', 32, 'Chi'],\n",
       " ['def', 12, 'asd'],\n",
       " ['ghi', 22, 'acdc'],\n",
       " ['New', 40, 'Jhp']]"
      ]
     },
     "execution_count": 4,
     "metadata": {},
     "output_type": "execute_result"
    }
   ],
   "source": [
    "l[0][0]=\"Ram prasad\"\n",
    "l"
   ]
  },
  {
   "cell_type": "code",
   "execution_count": 5,
   "id": "13c0db1a",
   "metadata": {},
   "outputs": [
    {
     "data": {
      "text/plain": [
       "[['def', 12, 'asd'], ['ghi', 22, 'acdc'], ['New', 40, 'Jhp']]"
      ]
     },
     "execution_count": 5,
     "metadata": {},
     "output_type": "execute_result"
    }
   ],
   "source": [
    "del l[0]\n",
    "l"
   ]
  },
  {
   "cell_type": "code",
   "execution_count": 28,
   "id": "519c3d73",
   "metadata": {},
   "outputs": [
    {
     "name": "stdout",
     "output_type": "stream",
     "text": [
      "Enter a nameRam\n",
      "['Ram', 32, 'Chi']\n",
      "['Ram', 40, 'Jhp']\n",
      "2 no of rows found\n"
     ]
    }
   ],
   "source": [
    "a=[['Ram', 32, 'Chi'],\n",
    " ['def', 12, 'asd'],\n",
    " ['ghi', 22, 'acdc'],\n",
    " ['Ram', 40, 'Jhp']]\n",
    "c=0\n",
    "b=input(\"Enter a name\")\n",
    "for i in a:\n",
    "    if i[0].lower()==b.lower:     #if b in i:\n",
    "        print(i)\n",
    "        c=c+1\n",
    "if c==0:\n",
    "    print(\"Name not found\")\n",
    "else:\n",
    "    print(c,\"no of rows found\")"
   ]
  },
  {
   "cell_type": "code",
   "execution_count": 29,
   "id": "c4792457",
   "metadata": {},
   "outputs": [
    {
     "name": "stdout",
     "output_type": "stream",
     "text": [
      "Yes\n",
      "2\n"
     ]
    }
   ],
   "source": [
    "a=[\"Ram\",\"Shyam\",\"Hari\",\"Ram\"]\n",
    "if \"Ram\" in a:\n",
    "    print(\"Yes\")\n",
    "    print(a.count(\"Ram\"))\n",
    "else:\n",
    "    print(\"No name found\")"
   ]
  },
  {
   "cell_type": "code",
   "execution_count": 31,
   "id": "071cf266",
   "metadata": {},
   "outputs": [],
   "source": [
    "# WAP to create matrix taking number of rows,cloumn and data as input\n",
    "# WAP to convert string into list inside list eg;\n",
    "# split()\n",
    "# Apple 300 1 300\n",
    "# Banana 200 2 400\n",
    "#         to\n",
    "# [[Apple,300,1,300],\n",
    "# [Banana,200,2,400]]\n",
    "# WAP to create result management system in list inside list and perform CRL"
   ]
  },
  {
   "cell_type": "code",
   "execution_count": 1,
   "id": "689eebcd",
   "metadata": {},
   "outputs": [
    {
     "name": "stdout",
     "output_type": "stream",
     "text": [
      "Enter rows3\n",
      "Enter column3\n",
      "Enter data1\n",
      "Enter data2\n",
      "Enter data3\n",
      "Enter data4\n",
      "Enter data5\n",
      "Enter data6\n",
      "Enter data7\n",
      "Enter data8\n",
      "Enter data9\n",
      "1    2    3     \n",
      "\n",
      "4    5    6     \n",
      "\n",
      "7    8    9     \n",
      "\n"
     ]
    }
   ],
   "source": [
    "#Matrix\n",
    "#[[1,2,3],[4,5,6]]\n",
    "a=[]\n",
    "r=int(input(\"Enter rows\"))\n",
    "c=int(input(\"Enter column\"))\n",
    "for i in range(r):\n",
    "    m=[]\n",
    "    for j in range(c):\n",
    "        z=int(input(\"Enter data\"))\n",
    "        m.append(z)\n",
    "    a.append(m)\n",
    "    \n",
    "for i in range(r):\n",
    "    for j in range(c):\n",
    "        print(a[i][j],end=\"    \")\n",
    "    print(\" \\n\")"
   ]
  },
  {
   "cell_type": "code",
   "execution_count": 4,
   "id": "0f52547e",
   "metadata": {
    "scrolled": true
   },
   "outputs": [
    {
     "name": "stdout",
     "output_type": "stream",
     "text": [
      "Enter total no of items:2\n",
      "Enter product name:s\n",
      "Enter price:1\n",
      "Enter quantity:1\n",
      "Enter product name:v\n",
      "Enter price:1\n",
      "Enter quantity:1\n"
     ]
    },
    {
     "ename": "AttributeError",
     "evalue": "'list' object has no attribute 'split'",
     "output_type": "error",
     "traceback": [
      "\u001b[0;31m---------------------------------------------------------------------------\u001b[0m",
      "\u001b[0;31mAttributeError\u001b[0m                            Traceback (most recent call last)",
      "Cell \u001b[0;32mIn[4], line 15\u001b[0m\n\u001b[1;32m     13\u001b[0m     gt\u001b[38;5;241m=\u001b[39mgt\u001b[38;5;241m+\u001b[39mt\n\u001b[1;32m     14\u001b[0m x\u001b[38;5;241m.\u001b[39mappend(ab)\n\u001b[0;32m---> 15\u001b[0m x\u001b[38;5;241m.\u001b[39msplit()\n\u001b[1;32m     16\u001b[0m \u001b[38;5;28mprint\u001b[39m(\u001b[38;5;124m\"\u001b[39m\u001b[38;5;130;01m\\n\u001b[39;00m\u001b[38;5;124mName Pri Qty Tot\u001b[39m\u001b[38;5;124m\"\u001b[39m)\n\u001b[1;32m     17\u001b[0m \u001b[38;5;28mprint\u001b[39m(z)\n",
      "\u001b[0;31mAttributeError\u001b[0m: 'list' object has no attribute 'split'"
     ]
    }
   ],
   "source": [
    "gt=0\n",
    "z=\"\"\n",
    "ab=\"\"\n",
    "x=[]\n",
    "a=int(input(\"Enter total no of items:\"))\n",
    "for i in range(a):\n",
    "    n=str(input(\"Enter product name:\"))\n",
    "    p=int(input(\"Enter price:\"))\n",
    "    q=int(input(\"Enter quantity:\"))\n",
    "    t=p*q\n",
    "    z=z+n+\" \"+str(p)+\" \"+str(q)+\" \"+str(t)+\"\\n\"\n",
    "    ab=ab+n+\" \"+str(p)+\" \"+str(q)+\" \"+str(t)\n",
    "    gt=gt+t\n",
    "x.append(ab)\n",
    "print(\"\\nName Pri Qty Tot\")\n",
    "print(z)\n",
    "print(\"Grand total:\",gt)\n",
    "print(\"\\n\",x,end=\" \")"
   ]
  },
  {
   "cell_type": "code",
   "execution_count": null,
   "id": "c67d972c",
   "metadata": {},
   "outputs": [],
   "source": []
  },
  {
   "cell_type": "code",
   "execution_count": 2,
   "id": "6f988c82",
   "metadata": {
    "scrolled": true
   },
   "outputs": [
    {
     "name": "stdout",
     "output_type": "stream",
     "text": [
      "Yes\n",
      "2\n"
     ]
    }
   ],
   "source": []
  },
  {
   "cell_type": "code",
   "execution_count": null,
   "id": "b091b532",
   "metadata": {},
   "outputs": [],
   "source": []
  },
  {
   "cell_type": "code",
   "execution_count": null,
   "id": "e7ce10c5",
   "metadata": {},
   "outputs": [],
   "source": []
  }
 ],
 "metadata": {
  "kernelspec": {
   "display_name": "Python 3 (ipykernel)",
   "language": "python",
   "name": "python3"
  },
  "language_info": {
   "codemirror_mode": {
    "name": "ipython",
    "version": 3
   },
   "file_extension": ".py",
   "mimetype": "text/x-python",
   "name": "python",
   "nbconvert_exporter": "python",
   "pygments_lexer": "ipython3",
   "version": "3.11.3"
  }
 },
 "nbformat": 4,
 "nbformat_minor": 5
}
