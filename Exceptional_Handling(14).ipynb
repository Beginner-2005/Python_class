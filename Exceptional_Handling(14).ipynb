{
 "cells": [
  {
   "cell_type": "code",
   "execution_count": 1,
   "id": "5d20b9d5",
   "metadata": {},
   "outputs": [],
   "source": [
    "# try:\n",
    "#     <operations>\n",
    "    \n",
    "# except:\n",
    "#     <operation>"
   ]
  },
  {
   "cell_type": "code",
   "execution_count": 2,
   "id": "e5908402",
   "metadata": {},
   "outputs": [
    {
     "name": "stdout",
     "output_type": "stream",
     "text": [
      "Enter your ageten\n",
      "The age should be in integer\n"
     ]
    }
   ],
   "source": [
    "try:\n",
    "    ag=int(input(\"Enter your age:\"))\n",
    "except:\n",
    "    print(\"The age should be in integer\")"
   ]
  },
  {
   "cell_type": "code",
   "execution_count": 3,
   "id": "f464d5ff",
   "metadata": {},
   "outputs": [
    {
     "name": "stdout",
     "output_type": "stream",
     "text": [
      "Enter a:10\n",
      "Enter b:10\n",
      "1.0\n"
     ]
    }
   ],
   "source": [
    "try:\n",
    "    a=int(input(\"Enter a:\"))\n",
    "    b=int(input(\"Enter b:\"))\n",
    "    c=a/b\n",
    "    print(c)\n",
    "except:\n",
    "    print(\"There is some error\")"
   ]
  },
  {
   "cell_type": "code",
   "execution_count": 5,
   "id": "77504ca5",
   "metadata": {},
   "outputs": [
    {
     "name": "stdout",
     "output_type": "stream",
     "text": [
      "Enter a:10\n",
      "Enter b:4\n",
      "2.5\n"
     ]
    }
   ],
   "source": [
    "try:\n",
    "    a=int(input(\"Enter a:\"))\n",
    "    b=int(input(\"Enter b:\"))\n",
    "    c=a/b\n",
    "    print(c)\n",
    "except ValueError:\n",
    "    print(\"a and b should be int\")\n",
    "except ZeroDivisionError:\n",
    "    print(\"value of b should not be 0\")"
   ]
  },
  {
   "cell_type": "code",
   "execution_count": 6,
   "id": "7e75e7b2",
   "metadata": {},
   "outputs": [
    {
     "name": "stdout",
     "output_type": "stream",
     "text": [
      "Enter your age:ten\n"
     ]
    },
    {
     "ename": "ValueError",
     "evalue": "invalid literal for int() with base 10: 'ten'",
     "output_type": "error",
     "traceback": [
      "\u001b[0;31m---------------------------------------------------------------------------\u001b[0m",
      "\u001b[0;31mValueError\u001b[0m                                Traceback (most recent call last)",
      "Cell \u001b[0;32mIn[6], line 1\u001b[0m\n\u001b[0;32m----> 1\u001b[0m ag\u001b[38;5;241m=\u001b[39m\u001b[38;5;28mint\u001b[39m(\u001b[38;5;28minput\u001b[39m(\u001b[38;5;124m\"\u001b[39m\u001b[38;5;124mEnter your age:\u001b[39m\u001b[38;5;124m\"\u001b[39m))\n",
      "\u001b[0;31mValueError\u001b[0m: invalid literal for int() with base 10: 'ten'"
     ]
    }
   ],
   "source": [
    "ag=int(input(\"Enter your age:\"))"
   ]
  },
  {
   "cell_type": "code",
   "execution_count": 7,
   "id": "173b7b3e",
   "metadata": {},
   "outputs": [
    {
     "ename": "ZeroDivisionError",
     "evalue": "division by zero",
     "output_type": "error",
     "traceback": [
      "\u001b[0;31m---------------------------------------------------------------------------\u001b[0m",
      "\u001b[0;31mZeroDivisionError\u001b[0m                         Traceback (most recent call last)",
      "Cell \u001b[0;32mIn[7], line 1\u001b[0m\n\u001b[0;32m----> 1\u001b[0m \u001b[38;5;241m10\u001b[39m\u001b[38;5;241m/\u001b[39m\u001b[38;5;241m0\u001b[39m\n",
      "\u001b[0;31mZeroDivisionError\u001b[0m: division by zero"
     ]
    }
   ],
   "source": [
    "10/0"
   ]
  },
  {
   "cell_type": "code",
   "execution_count": 8,
   "id": "03d77110",
   "metadata": {},
   "outputs": [],
   "source": [
    "assert 10<20"
   ]
  },
  {
   "cell_type": "code",
   "execution_count": 9,
   "id": "c2ed5684",
   "metadata": {},
   "outputs": [
    {
     "ename": "AssertionError",
     "evalue": "",
     "output_type": "error",
     "traceback": [
      "\u001b[0;31m---------------------------------------------------------------------------\u001b[0m",
      "\u001b[0;31mAssertionError\u001b[0m                            Traceback (most recent call last)",
      "Cell \u001b[0;32mIn[9], line 1\u001b[0m\n\u001b[0;32m----> 1\u001b[0m \u001b[38;5;28;01massert\u001b[39;00m \u001b[38;5;241m10\u001b[39m\u001b[38;5;241m>\u001b[39m\u001b[38;5;241m20\u001b[39m\n",
      "\u001b[0;31mAssertionError\u001b[0m: "
     ]
    }
   ],
   "source": [
    "assert 10>20"
   ]
  },
  {
   "cell_type": "code",
   "execution_count": 11,
   "id": "4c3b0a30",
   "metadata": {},
   "outputs": [
    {
     "name": "stdout",
     "output_type": "stream",
     "text": [
      "Enter your usernameab\n",
      "Enter your passwordab\n",
      "The username or password does not match\n"
     ]
    }
   ],
   "source": [
    "username=\"admin\"\n",
    "password=\"admin\"\n",
    "try:\n",
    "    username1=input(\"Enter your username\")\n",
    "    password1=input(\"Enter your password\")\n",
    "    assert username==username1 and password==password1\n",
    "    print(\"You are logged in\")\n",
    "except:\n",
    "    print(\"The username or password does not match\")"
   ]
  },
  {
   "cell_type": "code",
   "execution_count": 12,
   "id": "59dde016",
   "metadata": {},
   "outputs": [
    {
     "name": "stdout",
     "output_type": "stream",
     "text": [
      "Enter your usernameabc\n",
      "Enter your passwordabc\n",
      "The username or password does not match\n",
      "Enter your usernameabc\n",
      "Enter your passwordabc\n",
      "The username or password does not match\n",
      "Enter your usernameadmin\n",
      "Enter your passwordadmin\n",
      "You are logged in\n"
     ]
    }
   ],
   "source": [
    "def login():\n",
    "    username=\"admin\"\n",
    "    password=\"admin\"\n",
    "    try:\n",
    "        username1=input(\"Enter your username\")\n",
    "        password1=input(\"Enter your password\")\n",
    "        assert username==username1 and password==password1\n",
    "        print(\"You are logged in\")\n",
    "    except:\n",
    "        print(\"The username or password does not match\")\n",
    "        login()\n",
    "\n",
    "login()"
   ]
  },
  {
   "cell_type": "code",
   "execution_count": 19,
   "id": "c098b88a",
   "metadata": {},
   "outputs": [
    {
     "name": "stdout",
     "output_type": "stream",
     "text": [
      "Enter your usernamea\n",
      "Enter your passworda\n",
      "The username or password does not match\n",
      "Enter your usernamea\n",
      "Enter your passworda\n",
      "The username or password does not match\n",
      "Enter your usernameadmin\n",
      "Enter your passwordadmin\n",
      "You are logged in 3 attempts\n"
     ]
    }
   ],
   "source": [
    "c=1\n",
    "def login():\n",
    "    global c     #for using c inside the function make it globle variable\n",
    "    username=\"admin\"\n",
    "    password=\"admin\"\n",
    "    f=int()\n",
    "    try:\n",
    "        username1=input(\"Enter your username\")\n",
    "        password1=input(\"Enter your password\")\n",
    "        assert username==username1 and password==password1\n",
    "        print(f\"You are logged in {c} attempts\")\n",
    "    except:\n",
    "        print(\"The username or password does not match\")\n",
    "        c=c+1\n",
    "        login()\n",
    "\n",
    "login()"
   ]
  },
  {
   "cell_type": "code",
   "execution_count": 3,
   "id": "39ab13ef",
   "metadata": {},
   "outputs": [
    {
     "name": "stdout",
     "output_type": "stream",
     "text": [
      "Enter your usernameadmin\n",
      "Enter your passwordadmin\n",
      "You are logged in\n"
     ]
    }
   ],
   "source": [
    "username=\"admin\"\n",
    "password=\"admin\"\n",
    "try:\n",
    "    username1=input(\"Enter your username\")\n",
    "    password1=input(\"Enter your password\")\n",
    "    assert username==username1 and password==password1\n",
    "except:\n",
    "    print(\"The username or password does not match\")\n",
    "    \n",
    "else:\n",
    "    print(\"You are logged in\")"
   ]
  },
  {
   "cell_type": "code",
   "execution_count": 4,
   "id": "126d9046",
   "metadata": {},
   "outputs": [
    {
     "name": "stdout",
     "output_type": "stream",
     "text": [
      "There is no such file\n"
     ]
    }
   ],
   "source": [
    "try:\n",
    "    file=open(\"my_file.txt\",\"r\")\n",
    "except:\n",
    "    print(\"There is no such file\")\n",
    "else:\n",
    "    print(file.read())\n",
    "    file.close()"
   ]
  },
  {
   "cell_type": "code",
   "execution_count": null,
   "id": "e49d9673",
   "metadata": {},
   "outputs": [],
   "source": []
  }
 ],
 "metadata": {
  "kernelspec": {
   "display_name": "Python 3 (ipykernel)",
   "language": "python",
   "name": "python3"
  },
  "language_info": {
   "codemirror_mode": {
    "name": "ipython",
    "version": 3
   },
   "file_extension": ".py",
   "mimetype": "text/x-python",
   "name": "python",
   "nbconvert_exporter": "python",
   "pygments_lexer": "ipython3",
   "version": "3.11.3"
  }
 },
 "nbformat": 4,
 "nbformat_minor": 5
}
