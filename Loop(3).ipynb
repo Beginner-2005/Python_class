{
 "cells": [
  {
   "cell_type": "code",
   "execution_count": 1,
   "id": "06370808",
   "metadata": {},
   "outputs": [],
   "source": [
    "# loop\n",
    "# for loop\n",
    "# while loop"
   ]
  },
  {
   "cell_type": "code",
   "execution_count": 4,
   "id": "ad60703b",
   "metadata": {},
   "outputs": [],
   "source": [
    "# range(5)       #0,1,2,3,4   for(i=0;i<5;i++)\n",
    "# range(1,5)     #1,2,3,4     for(i=1;i<5;i++)\n",
    "# range(1,10,2)  #1,3,5,7,9   for(i=1;i<10;i=i+2)"
   ]
  },
  {
   "cell_type": "code",
   "execution_count": 6,
   "id": "76f3f308",
   "metadata": {},
   "outputs": [
    {
     "name": "stdout",
     "output_type": "stream",
     "text": [
      "0 Hello World\n",
      "1 Hello World\n",
      "2 Hello World\n",
      "3 Hello World\n",
      "4 Hello World\n"
     ]
    }
   ],
   "source": [
    "for i in range(5):\n",
    "    print(i,\"Hello World\")"
   ]
  },
  {
   "cell_type": "code",
   "execution_count": 7,
   "id": "8aeb3b99",
   "metadata": {},
   "outputs": [
    {
     "name": "stdout",
     "output_type": "stream",
     "text": [
      "1 Hello World\n",
      "2 Hello World\n",
      "3 Hello World\n",
      "4 Hello World\n"
     ]
    }
   ],
   "source": [
    "for i in range(1,5):\n",
    "    print(i,\"Hello World\")"
   ]
  },
  {
   "cell_type": "code",
   "execution_count": 10,
   "id": "6e307133",
   "metadata": {},
   "outputs": [
    {
     "name": "stdout",
     "output_type": "stream",
     "text": [
      "1 Hello World\n",
      "3 Hello World\n",
      "5 Hello World\n",
      "7 Hello World\n",
      "9 Hello World\n"
     ]
    }
   ],
   "source": [
    "for i in range(1,10,2):\n",
    "    print(i,\"Hello World\")"
   ]
  },
  {
   "cell_type": "code",
   "execution_count": 2,
   "id": "d7abed31",
   "metadata": {},
   "outputs": [
    {
     "name": "stdout",
     "output_type": "stream",
     "text": [
      "Enter n:2\n",
      "2 X 1 = 2\n",
      "2 X 2 = 4\n",
      "2 X 3 = 6\n",
      "2 X 4 = 8\n",
      "2 X 5 = 10\n",
      "2 X 6 = 12\n",
      "2 X 7 = 14\n",
      "2 X 8 = 16\n",
      "2 X 9 = 18\n",
      "2 X 10 = 20\n"
     ]
    }
   ],
   "source": [
    "#Multiplication number\n",
    "n=int(input(\"Enter n:\"))\n",
    "for i in range(1,11):\n",
    "    print(n,\"X\",i,\"=\",n*i)"
   ]
  },
  {
   "cell_type": "code",
   "execution_count": 8,
   "id": "e24514d5",
   "metadata": {},
   "outputs": [
    {
     "name": "stdout",
     "output_type": "stream",
     "text": [
      "Enter n:4\n",
      "Enter x:2\n",
      "Enter x:4\n",
      "Enter x:6\n",
      "Enter x:8\n",
      "20\n"
     ]
    }
   ],
   "source": [
    "#Total no of addn\n",
    "s=0\n",
    "n=int(input(\"Enter n:\"))\n",
    "for i in range(n):\n",
    "    x=int(input(\"Enter x:\"))\n",
    "    s=s+x\n",
    "print(s)"
   ]
  },
  {
   "cell_type": "code",
   "execution_count": 13,
   "id": "84d0bd03",
   "metadata": {},
   "outputs": [
    {
     "name": "stdout",
     "output_type": "stream",
     "text": [
      "Enter n:2\n",
      "Enter x:a\n",
      "Enter x:b\n",
      "a b \n"
     ]
    }
   ],
   "source": [
    "s=\"\"                         #s=str()     <- same\n",
    "n=int(input(\"Enter n:\"))\n",
    "for i in range(n):\n",
    "    x=str(input(\"Enter x:\"))\n",
    "    s=s+x+\" \"                #\"\\n     and  \\t\"\n",
    "print(s)"
   ]
  },
  {
   "cell_type": "code",
   "execution_count": 3,
   "id": "fae3fbb4",
   "metadata": {},
   "outputs": [
    {
     "name": "stdout",
     "output_type": "stream",
     "text": [
      "Enter no of people:2\n",
      "Enter name:sulav\n",
      "Enter phone:980\n",
      "Enter name:abc\n",
      "Enter phone:999\n",
      "sulav 980\n",
      "abc 999\n",
      "\n"
     ]
    }
   ],
   "source": [
    "s=\"\"\n",
    "n=int(input(\"Enter no of people:\"))\n",
    "for i in range(n):\n",
    "    nm=input(\"Enter name:\")\n",
    "    ph=input(\"Enter phone:\")\n",
    "    s=s+nm+\" \"+ph+\"\\n\"\n",
    "print(s)"
   ]
  },
  {
   "cell_type": "code",
   "execution_count": 4,
   "id": "180aee5d",
   "metadata": {},
   "outputs": [],
   "source": [
    "# 5!=1*2*3*4*5\n"
   ]
  },
  {
   "cell_type": "code",
   "execution_count": 8,
   "id": "265b87e1",
   "metadata": {},
   "outputs": [
    {
     "name": "stdout",
     "output_type": "stream",
     "text": [
      "Enter a no:5\n",
      "120\n"
     ]
    }
   ],
   "source": [
    "#Factorial\n",
    "a=int(input(\"Enter a no:\"))\n",
    "b=1\n",
    "for i in range(1,a+1):\n",
    "    b=b*i\n",
    "print(b)"
   ]
  },
  {
   "cell_type": "code",
   "execution_count": 1,
   "id": "4a63aac6",
   "metadata": {},
   "outputs": [],
   "source": [
    "# WAP to create a billing system\n",
    "# ask nm, price,qnty, total, grand total"
   ]
  },
  {
   "cell_type": "code",
   "execution_count": 3,
   "id": "db541bdc",
   "metadata": {},
   "outputs": [
    {
     "name": "stdout",
     "output_type": "stream",
     "text": [
      "Enter total no of items:2\n",
      "Enter product name:coke\n",
      "Enter price:100\n",
      "Enter quantity:1\n",
      "Enter product name:momo\n",
      "Enter price:100\n",
      "Enter quantity:2\n",
      "Name Pri Qty Tot\n",
      "coke 100 1 100\n",
      "momo 100 2 200\n",
      "\n",
      "Grand total: 300\n"
     ]
    }
   ],
   "source": [
    "gt=0\n",
    "z=\"\"\n",
    "a=int(input(\"Enter total no of items:\"))\n",
    "for i in range(a):\n",
    "    n=str(input(\"Enter product name:\"))\n",
    "    p=int(input(\"Enter price:\"))\n",
    "    q=int(input(\"Enter quantity:\"))\n",
    "    t=p*q\n",
    "    z=z+n+\" \"+str(p)+\" \"+str(q)+\" \"+str(t)+\"\\n\"\n",
    "    gt=gt+t\n",
    "print(\"\\nName Pri Qty Tot\")\n",
    "print(z)\n",
    "print(\"Grand total:\",gt)"
   ]
  },
  {
   "cell_type": "code",
   "execution_count": 5,
   "id": "c695c074",
   "metadata": {},
   "outputs": [
    {
     "name": "stdout",
     "output_type": "stream",
     "text": [
      "A Hello World\n",
      "p Hello World\n",
      "p Hello World\n",
      "l Hello World\n",
      "e Hello World\n"
     ]
    }
   ],
   "source": [
    "# for loop in string\n",
    "a=\"Apple\"\n",
    "for i in a:\n",
    "    print (i,\"Hello World\")"
   ]
  },
  {
   "cell_type": "code",
   "execution_count": 9,
   "id": "519ac9d7",
   "metadata": {},
   "outputs": [
    {
     "name": "stdout",
     "output_type": "stream",
     "text": [
      "Hello World. I am python"
     ]
    }
   ],
   "source": [
    "a=\"Hello World. I am python\"\n",
    "for i in a:\n",
    "    print(i,end=\"\")"
   ]
  },
  {
   "cell_type": "code",
   "execution_count": 12,
   "id": "5b1fedb4",
   "metadata": {},
   "outputs": [
    {
     "name": "stdout",
     "output_type": "stream",
     "text": [
      "Hello World I am python"
     ]
    }
   ],
   "source": [
    "a=\"Hello World. I am python\"\n",
    "for i in a:\n",
    "    if i!=\".\":\n",
    "        print(i,end=\"\")"
   ]
  },
  {
   "cell_type": "code",
   "execution_count": 13,
   "id": "8f84fee0",
   "metadata": {},
   "outputs": [],
   "source": [
    "# control statements\n",
    "# continue \n",
    "# break"
   ]
  },
  {
   "cell_type": "code",
   "execution_count": 14,
   "id": "bac398da",
   "metadata": {},
   "outputs": [
    {
     "name": "stdout",
     "output_type": "stream",
     "text": [
      "0\n",
      "1\n",
      "2\n",
      "3\n",
      "4\n"
     ]
    }
   ],
   "source": [
    "#break statement\n",
    "for i in range(10):\n",
    "    if i==5:\n",
    "        break\n",
    "    print(i)"
   ]
  },
  {
   "cell_type": "code",
   "execution_count": 15,
   "id": "09148497",
   "metadata": {},
   "outputs": [
    {
     "name": "stdout",
     "output_type": "stream",
     "text": [
      "Hello World"
     ]
    }
   ],
   "source": [
    "#break eg\n",
    "a=\"Hello World. I am python\"\n",
    "for i in a:\n",
    "    if i==\".\":\n",
    "        break\n",
    "    print(i,end=\"\")"
   ]
  },
  {
   "cell_type": "code",
   "execution_count": 18,
   "id": "ff5d3b54",
   "metadata": {},
   "outputs": [
    {
     "name": "stdout",
     "output_type": "stream",
     "text": [
      "0 1 2 3 4 6 7 8 9 "
     ]
    }
   ],
   "source": [
    "#continue statement\n",
    "for i in range(10):\n",
    "    if i==5:\n",
    "        continue\n",
    "    print(i,end=\" \")"
   ]
  },
  {
   "cell_type": "code",
   "execution_count": 19,
   "id": "d71f8760",
   "metadata": {},
   "outputs": [
    {
     "name": "stdout",
     "output_type": "stream",
     "text": [
      "Hello World I am python"
     ]
    }
   ],
   "source": [
    "#continue eg\n",
    "a=\"Hello World. I am python\"\n",
    "for i in a:\n",
    "    if i==\".\":\n",
    "        continue\n",
    "    print(i,end=\"\")"
   ]
  },
  {
   "cell_type": "code",
   "execution_count": 24,
   "id": "8a1ac8c5",
   "metadata": {},
   "outputs": [
    {
     "name": "stdout",
     "output_type": "stream",
     "text": [
      "Enter a no.9\n",
      "Composite\n"
     ]
    }
   ],
   "source": [
    "#WAP to detect if a no is prime or composite\n",
    "\n",
    "a=int(input(\"Enter a no.\"))\n",
    "fac=0\n",
    "\n",
    "for i in range(1,a+1):\n",
    "    if a%i==0:\n",
    "        fac=fac+1\n",
    "    else:\n",
    "        continue\n",
    "\n",
    "if fac>2:\n",
    "    print(\"Composite\")\n",
    "else:\n",
    "    print(\"Prime\")"
   ]
  },
  {
   "cell_type": "code",
   "execution_count": 35,
   "id": "ff126212",
   "metadata": {},
   "outputs": [
    {
     "name": "stdout",
     "output_type": "stream",
     "text": [
      "Enter a no.3\n",
      "Prime\n"
     ]
    }
   ],
   "source": [
    "#WAP to detect if a no is prime or composite\n",
    "# for else \n",
    "a=int(input(\"Enter a no.\"))\n",
    "for i in range(2,a):\n",
    "    if a%i==0:\n",
    "        print(\"Comosite\")\n",
    "        break\n",
    "else:\n",
    "    print(\"Prime\")"
   ]
  },
  {
   "cell_type": "code",
   "execution_count": 1,
   "id": "203d46e0",
   "metadata": {},
   "outputs": [],
   "source": [
    "# while (condition):\n",
    "#     (operation)"
   ]
  },
  {
   "cell_type": "code",
   "execution_count": 2,
   "id": "0a23ba8f",
   "metadata": {},
   "outputs": [
    {
     "name": "stdout",
     "output_type": "stream",
     "text": [
      "0 Hello World\n",
      "1 Hello World\n",
      "2 Hello World\n",
      "3 Hello World\n",
      "4 Hello World\n"
     ]
    }
   ],
   "source": [
    "a=0\n",
    "while a<5:\n",
    "    print(a,\"Hello World\")\n",
    "    a=a+1"
   ]
  },
  {
   "cell_type": "code",
   "execution_count": 4,
   "id": "f779d37c",
   "metadata": {},
   "outputs": [
    {
     "name": "stdout",
     "output_type": "stream",
     "text": [
      "Enter a no.2\n",
      "2 X 1 = 2\n",
      "2 X 2 = 4\n",
      "2 X 3 = 6\n",
      "2 X 4 = 8\n",
      "2 X 5 = 10\n",
      "2 X 6 = 12\n",
      "2 X 7 = 14\n",
      "2 X 8 = 16\n",
      "2 X 9 = 18\n",
      "2 X 10 = 20\n"
     ]
    }
   ],
   "source": [
    "# * table using while\n",
    "i=1\n",
    "a=int(input(\"Enter a no.\"))\n",
    "while i<=10:\n",
    "    print(a,\"X\",i,\"=\",a*i)\n",
    "    i=i+1"
   ]
  },
  {
   "cell_type": "code",
   "execution_count": 2,
   "id": "346b1ced",
   "metadata": {},
   "outputs": [
    {
     "name": "stdout",
     "output_type": "stream",
     "text": [
      "Enter n:2\n",
      "Enter x:1\n",
      "Enter x:4\n",
      "5\n"
     ]
    }
   ],
   "source": [
    "i=0\n",
    "s=0\n",
    "n=int(input(\"Enter n:\"))\n",
    "while i<n:\n",
    "    x=int(input(\"Enter x:\"))\n",
    "    s=s+x\n",
    "    i=i+1\n",
    "print(s)"
   ]
  },
  {
   "cell_type": "code",
   "execution_count": 1,
   "id": "cec06fa1",
   "metadata": {},
   "outputs": [
    {
     "name": "stdout",
     "output_type": "stream",
     "text": [
      "Enter a no:5\n",
      "120\n"
     ]
    }
   ],
   "source": [
    "a=int(input(\"Enter a no:\"))\n",
    "b=1\n",
    "i=1\n",
    "while i<=a:\n",
    "    b=b*i\n",
    "    i=i+1\n",
    "print(b)"
   ]
  },
  {
   "cell_type": "code",
   "execution_count": 2,
   "id": "9970741f",
   "metadata": {},
   "outputs": [
    {
     "name": "stdout",
     "output_type": "stream",
     "text": [
      "Enter total no of items:2\n",
      "Enter product name:coke\n",
      "Enter price:100\n",
      "Enter quantity:2\n",
      "Enter product name:momo\n",
      "Enter price:100\n",
      "Enter quantity:1\n",
      "\n",
      "Name Pri Qty Tot\n",
      "coke 100 2 200\n",
      "momo 100 1 100\n",
      "\n",
      "Grand total: 300\n"
     ]
    }
   ],
   "source": [
    "#billing system using while\n",
    "gt=0\n",
    "z=\"\"\n",
    "i=0\n",
    "a=int(input(\"Enter total no of items:\"))\n",
    "while i<a:\n",
    "    n=str(input(\"Enter product name:\"))\n",
    "    p=int(input(\"Enter price:\"))\n",
    "    q=int(input(\"Enter quantity:\"))\n",
    "    t=p*q\n",
    "    z=z+n+\" \"+str(p)+\" \"+str(q)+\" \"+str(t)+\"\\n\"\n",
    "    gt=gt+t\n",
    "    i=i+1\n",
    "print(\"\\nName Pri Qty Tot\")\n",
    "print(z)\n",
    "print(\"Grand total:\",gt)"
   ]
  },
  {
   "cell_type": "code",
   "execution_count": 3,
   "id": "f1922e35",
   "metadata": {},
   "outputs": [],
   "source": [
    "# control statements using while\n",
    "# continue \n",
    "# break"
   ]
  },
  {
   "cell_type": "code",
   "execution_count": 4,
   "id": "bb044963",
   "metadata": {},
   "outputs": [
    {
     "name": "stdout",
     "output_type": "stream",
     "text": [
      "0 1 2 3 4 "
     ]
    }
   ],
   "source": [
    "#break\n",
    "i=0\n",
    "while i<10:\n",
    "    if i==5:\n",
    "        break\n",
    "    print(i,end=\" \")\n",
    "    i=i+1"
   ]
  },
  {
   "cell_type": "code",
   "execution_count": 1,
   "id": "c5497535",
   "metadata": {},
   "outputs": [
    {
     "name": "stdout",
     "output_type": "stream",
     "text": [
      "0 1 2 3 4 6 7 8 9 "
     ]
    }
   ],
   "source": [
    "#continue\n",
    "i=0\n",
    "while i<10:\n",
    "    if i==5:\n",
    "        i=i+1            # -> i doesnt increase in if loop\n",
    "        continue\n",
    "    print(i,end=\" \")\n",
    "    i=i+1"
   ]
  },
  {
   "cell_type": "code",
   "execution_count": 3,
   "id": "ac8773b6",
   "metadata": {},
   "outputs": [
    {
     "name": "stdout",
     "output_type": "stream",
     "text": [
      "Enter a no.3\n",
      "Prime\n"
     ]
    }
   ],
   "source": [
    "#WAP to detect if a no is prime or composite\n",
    "# for else \n",
    "i=2\n",
    "a=int(input(\"Enter a no.\"))\n",
    "while i<a:\n",
    "    if a%i==0:\n",
    "        print(\"Comosite\")\n",
    "        break\n",
    "    i=i+1\n",
    "else:\n",
    "    print(\"Prime\")"
   ]
  },
  {
   "cell_type": "code",
   "execution_count": 4,
   "id": "b8c75a59",
   "metadata": {},
   "outputs": [
    {
     "name": "stdout",
     "output_type": "stream",
     "text": [
      "0 0\n",
      "0 1\n",
      "1 0\n",
      "1 1\n"
     ]
    }
   ],
   "source": [
    "#nested for loop\n",
    "for i in range(2):\n",
    "    for j in range(2):\n",
    "        print(i,j)"
   ]
  },
  {
   "cell_type": "code",
   "execution_count": 8,
   "id": "a60b7f33",
   "metadata": {},
   "outputs": [
    {
     "name": "stdout",
     "output_type": "stream",
     "text": [
      "\n",
      "*\n",
      "**\n",
      "***\n",
      "****\n"
     ]
    }
   ],
   "source": [
    "for i in range(5):\n",
    "    print(i*\"*\")"
   ]
  },
  {
   "cell_type": "code",
   "execution_count": 14,
   "id": "4819c783",
   "metadata": {},
   "outputs": [
    {
     "name": "stdout",
     "output_type": "stream",
     "text": [
      "..... \n",
      ".... o\n",
      "... ooo\n",
      ".. ooooo\n",
      ". ooooooo\n"
     ]
    }
   ],
   "source": [
    "c=5\n",
    "for i in range(5):\n",
    "    print(c*\".\",(2*i-1)*\"o\")\n",
    "    c=c-1"
   ]
  },
  {
   "cell_type": "code",
   "execution_count": 16,
   "id": "5dbdfc73",
   "metadata": {
    "scrolled": true
   },
   "outputs": [
    {
     "name": "stdout",
     "output_type": "stream",
     "text": [
      "      \n",
      "     o\n",
      "    oo\n",
      "   ooo\n",
      "  oooo\n"
     ]
    }
   ],
   "source": [
    "c=5\n",
    "for i in range(5):\n",
    "    print(c*\" \",i*\"o\")\n",
    "    c=c-1"
   ]
  },
  {
   "cell_type": "code",
   "execution_count": null,
   "id": "a77a6ef0",
   "metadata": {},
   "outputs": [],
   "source": []
  },
  {
   "cell_type": "code",
   "execution_count": null,
   "id": "c51bac38",
   "metadata": {},
   "outputs": [],
   "source": []
  }
 ],
 "metadata": {
  "kernelspec": {
   "display_name": "Python 3 (ipykernel)",
   "language": "python",
   "name": "python3"
  },
  "language_info": {
   "codemirror_mode": {
    "name": "ipython",
    "version": 3
   },
   "file_extension": ".py",
   "mimetype": "text/x-python",
   "name": "python",
   "nbconvert_exporter": "python",
   "pygments_lexer": "ipython3",
   "version": "3.11.3"
  }
 },
 "nbformat": 4,
 "nbformat_minor": 5
}
