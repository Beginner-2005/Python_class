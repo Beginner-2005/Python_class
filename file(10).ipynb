{
 "cells": [
  {
   "cell_type": "code",
   "execution_count": 3,
   "id": "18c70d51",
   "metadata": {},
   "outputs": [],
   "source": [
    "# file=open(\"<file_name>\" ,\"<modes\")\n",
    "# file.close()\n",
    "# with open(\"<file_name>\" ,\"<modes\") as file:\n",
    "#     <operation>"
   ]
  },
  {
   "cell_type": "code",
   "execution_count": null,
   "id": "23c090ba",
   "metadata": {},
   "outputs": [],
   "source": [
    "# the modes are:\n",
    "# x-create\n",
    "# w-write\n",
    "# r-read\n",
    "# a-append"
   ]
  },
  {
   "cell_type": "code",
   "execution_count": 7,
   "id": "134562b9",
   "metadata": {},
   "outputs": [
    {
     "ename": "FileExistsError",
     "evalue": "[Errno 17] File exists: 'data.txt'",
     "output_type": "error",
     "traceback": [
      "\u001b[0;31m---------------------------------------------------------------------------\u001b[0m",
      "\u001b[0;31mFileExistsError\u001b[0m                           Traceback (most recent call last)",
      "Cell \u001b[0;32mIn[7], line 1\u001b[0m\n\u001b[0;32m----> 1\u001b[0m file\u001b[38;5;241m=\u001b[39m\u001b[38;5;28mopen\u001b[39m(\u001b[38;5;124m\"\u001b[39m\u001b[38;5;124mdata.txt\u001b[39m\u001b[38;5;124m\"\u001b[39m,\u001b[38;5;124m\"\u001b[39m\u001b[38;5;124mx\u001b[39m\u001b[38;5;124m\"\u001b[39m)\n\u001b[1;32m      2\u001b[0m file\u001b[38;5;241m.\u001b[39mclose()\n",
      "File \u001b[0;32m~/anaconda3/lib/python3.11/site-packages/IPython/core/interactiveshell.py:284\u001b[0m, in \u001b[0;36m_modified_open\u001b[0;34m(file, *args, **kwargs)\u001b[0m\n\u001b[1;32m    277\u001b[0m \u001b[38;5;28;01mif\u001b[39;00m file \u001b[38;5;129;01min\u001b[39;00m {\u001b[38;5;241m0\u001b[39m, \u001b[38;5;241m1\u001b[39m, \u001b[38;5;241m2\u001b[39m}:\n\u001b[1;32m    278\u001b[0m     \u001b[38;5;28;01mraise\u001b[39;00m \u001b[38;5;167;01mValueError\u001b[39;00m(\n\u001b[1;32m    279\u001b[0m         \u001b[38;5;124mf\u001b[39m\u001b[38;5;124m\"\u001b[39m\u001b[38;5;124mIPython won\u001b[39m\u001b[38;5;124m'\u001b[39m\u001b[38;5;124mt let you open fd=\u001b[39m\u001b[38;5;132;01m{\u001b[39;00mfile\u001b[38;5;132;01m}\u001b[39;00m\u001b[38;5;124m by default \u001b[39m\u001b[38;5;124m\"\u001b[39m\n\u001b[1;32m    280\u001b[0m         \u001b[38;5;124m\"\u001b[39m\u001b[38;5;124mas it is likely to crash IPython. If you know what you are doing, \u001b[39m\u001b[38;5;124m\"\u001b[39m\n\u001b[1;32m    281\u001b[0m         \u001b[38;5;124m\"\u001b[39m\u001b[38;5;124myou can use builtins\u001b[39m\u001b[38;5;124m'\u001b[39m\u001b[38;5;124m open.\u001b[39m\u001b[38;5;124m\"\u001b[39m\n\u001b[1;32m    282\u001b[0m     )\n\u001b[0;32m--> 284\u001b[0m \u001b[38;5;28;01mreturn\u001b[39;00m io_open(file, \u001b[38;5;241m*\u001b[39margs, \u001b[38;5;241m*\u001b[39m\u001b[38;5;241m*\u001b[39mkwargs)\n",
      "\u001b[0;31mFileExistsError\u001b[0m: [Errno 17] File exists: 'data.txt'"
     ]
    }
   ],
   "source": [
    "file=open(\"data.txt\",\"x\")\n",
    "file.close()"
   ]
  },
  {
   "cell_type": "code",
   "execution_count": 13,
   "id": "9b879bde",
   "metadata": {},
   "outputs": [
    {
     "name": "stdout",
     "output_type": "stream",
     "text": [
      "1.Hello world\n",
      "2.Hello world\n",
      "3.Hello world\n",
      "4.Hello world\n",
      "5.Hello world\n",
      "6.\n",
      "7.\n",
      "8.Hello world\n",
      "9.Hello world\n"
     ]
    }
   ],
   "source": [
    "file=open(\"data.txt\",\"r\")\n",
    "y=file.read()\n",
    "print(y)\n",
    "file.close()"
   ]
  },
  {
   "cell_type": "code",
   "execution_count": 9,
   "id": "0cba0063",
   "metadata": {},
   "outputs": [
    {
     "name": "stdout",
     "output_type": "stream",
     "text": [
      "<class 'str'>\n"
     ]
    }
   ],
   "source": [
    "print(type(y))"
   ]
  },
  {
   "cell_type": "code",
   "execution_count": 14,
   "id": "22a55e92",
   "metadata": {},
   "outputs": [
    {
     "data": {
      "text/plain": [
       "['1.Hello world',\n",
       " '2.Hello world',\n",
       " '3.Hello world',\n",
       " '4.Hello world',\n",
       " '5.Hello world',\n",
       " '6.',\n",
       " '7.',\n",
       " '8.Hello world',\n",
       " '9.Hello world']"
      ]
     },
     "execution_count": 14,
     "metadata": {},
     "output_type": "execute_result"
    }
   ],
   "source": [
    "y.split(\"\\n\")   #creates list"
   ]
  },
  {
   "cell_type": "code",
   "execution_count": 12,
   "id": "1751b549",
   "metadata": {},
   "outputs": [],
   "source": [
    "file=open(\"new_data.txt\",\"w\")\n",
    "file.write(\"Hello World\")\n",
    "file.close()"
   ]
  },
  {
   "cell_type": "code",
   "execution_count": 2,
   "id": "566bdf3c",
   "metadata": {},
   "outputs": [
    {
     "name": "stdout",
     "output_type": "stream",
     "text": [
      "Enter total no of items:2\n",
      "Enter product name:coke\n",
      "Enter price:100\n",
      "Enter quantity:2\n",
      "Enter product name:momo\n",
      "Enter price:100\n",
      "Enter quantity:1\n",
      "coke 100 2 200\n",
      "momo 100 1 100\n",
      "\n"
     ]
    }
   ],
   "source": [
    "# billing system in file\n",
    "z=\"\"\n",
    "i=0\n",
    "a=int(input(\"Enter total no of items:\"))\n",
    "while i<a:\n",
    "    n=str(input(\"Enter product name:\"))\n",
    "    p=int(input(\"Enter price:\"))\n",
    "    q=int(input(\"Enter quantity:\"))\n",
    "    t=p*q\n",
    "    z=z+n+\" \"+str(p)+\" \"+str(q)+\" \"+str(t)+\"\\n\"\n",
    "    i=i+1\n",
    "print(z)\n",
    "\n",
    "file=open(\"new_data.txt\",\"w\")\n",
    "file.write(z)\n",
    "file.close()"
   ]
  },
  {
   "cell_type": "code",
   "execution_count": 3,
   "id": "9cbab61a",
   "metadata": {},
   "outputs": [
    {
     "name": "stdout",
     "output_type": "stream",
     "text": [
      "Enter total no of items:1\n",
      "Enter product name:kurkure\n",
      "Enter price:50\n",
      "Enter quantity:4\n",
      "kurkure 50 4 200\n",
      "\n"
     ]
    }
   ],
   "source": [
    "# billing system in file\n",
    "z=\"\"\n",
    "i=0\n",
    "a=int(input(\"Enter total no of items:\"))\n",
    "while i<a:\n",
    "    n=str(input(\"Enter product name:\"))\n",
    "    p=int(input(\"Enter price:\"))\n",
    "    q=int(input(\"Enter quantity:\"))\n",
    "    t=p*q\n",
    "    z=z+n+\" \"+str(p)+\" \"+str(q)+\" \"+str(t)+\"\\n\"\n",
    "    i=i+1\n",
    "print(z)\n",
    "\n",
    "file=open(\"new_data.txt\",\"a\")\n",
    "file.write(z)\n",
    "file.close()"
   ]
  },
  {
   "cell_type": "code",
   "execution_count": 7,
   "id": "6c3a5e46",
   "metadata": {},
   "outputs": [],
   "source": [
    "file=open(\"new_data.csv\",\"w\")\n",
    "file.write(\"Name,Price,Quantity,Total\\n\")\n",
    "file.close()"
   ]
  },
  {
   "cell_type": "code",
   "execution_count": 8,
   "id": "30fc3058",
   "metadata": {
    "scrolled": true
   },
   "outputs": [
    {
     "name": "stdout",
     "output_type": "stream",
     "text": [
      "Enter total no of items:1\n",
      "Enter product name:coke\n",
      "Enter price:100\n",
      "Enter quantity:1\n",
      "coke,100,1,100\n",
      "\n"
     ]
    }
   ],
   "source": [
    "# billing system in file (csv file)\n",
    "z=\"\"\n",
    "a=int(input(\"Enter total no of items:\"))\n",
    "for i in range(a):\n",
    "    n=str(input(\"Enter product name:\"))\n",
    "    p=int(input(\"Enter price:\"))\n",
    "    q=int(input(\"Enter quantity:\"))\n",
    "    t=p*q\n",
    "    z=z+f\"{n},{p},{q},{t}\\n\"\n",
    "print(z)\n",
    "\n",
    "file=open(\"new_data.csv\",\"a\")\n",
    "file.write(z)\n",
    "file.close()"
   ]
  },
  {
   "cell_type": "code",
   "execution_count": 9,
   "id": "1b5fa91f",
   "metadata": {},
   "outputs": [
    {
     "name": "stdout",
     "output_type": "stream",
     "text": [
      "Name,Price,Quantity,Total\n",
      "coke,100,1,100\n",
      "\n"
     ]
    }
   ],
   "source": [
    "file=open(\"new_data.csv\",\"r\")\n",
    "print(file.read())\n",
    "file.close()"
   ]
  },
  {
   "cell_type": "code",
   "execution_count": null,
   "id": "915120e7",
   "metadata": {},
   "outputs": [],
   "source": []
  }
 ],
 "metadata": {
  "kernelspec": {
   "display_name": "Python 3 (ipykernel)",
   "language": "python",
   "name": "python3"
  },
  "language_info": {
   "codemirror_mode": {
    "name": "ipython",
    "version": 3
   },
   "file_extension": ".py",
   "mimetype": "text/x-python",
   "name": "python",
   "nbconvert_exporter": "python",
   "pygments_lexer": "ipython3",
   "version": "3.11.3"
  }
 },
 "nbformat": 4,
 "nbformat_minor": 5
}
