{
 "cells": [
  {
   "cell_type": "code",
   "execution_count": 1,
   "id": "5bdff7a0",
   "metadata": {},
   "outputs": [],
   "source": [
    "# #Dict\n",
    "# -Indexing\n",
    "# -Multiple and dulicate ata\n",
    "# -Ordered\n",
    "# -Multiple"
   ]
  },
  {
   "cell_type": "code",
   "execution_count": 2,
   "id": "e73807ce",
   "metadata": {},
   "outputs": [],
   "source": [
    "#d={<key>:<value> , <key>:<value>}"
   ]
  },
  {
   "cell_type": "code",
   "execution_count": 8,
   "id": "d26b4f0d",
   "metadata": {},
   "outputs": [
    {
     "data": {
      "text/plain": [
       "{'a': 'Apple', 'b': 'Ball', 'c': 'Cat'}"
      ]
     },
     "execution_count": 8,
     "metadata": {},
     "output_type": "execute_result"
    }
   ],
   "source": [
    "d={\"a\":\"Apple\",\"b\":\"Ball\", \"c\":\"Cat\"}\n",
    "d"
   ]
  },
  {
   "cell_type": "code",
   "execution_count": 10,
   "id": "224395d3",
   "metadata": {},
   "outputs": [
    {
     "name": "stdout",
     "output_type": "stream",
     "text": [
      "Apple\n",
      "Ball\n"
     ]
    }
   ],
   "source": [
    "print(d[\"a\"])\n",
    "print(d[\"b\"])"
   ]
  },
  {
   "cell_type": "code",
   "execution_count": 11,
   "id": "fb8b5c9d",
   "metadata": {},
   "outputs": [
    {
     "data": {
      "text/plain": [
       "{'a': 'Apple', 'b': 'Ball', 'c': 'cat'}"
      ]
     },
     "execution_count": 11,
     "metadata": {},
     "output_type": "execute_result"
    }
   ],
   "source": [
    "d={\"a\":\"Apple\",\"b\":\"Ball\", \"c\":\"Cat\", \"c\":\"cat\"}  #latest displaces previous\n",
    "d"
   ]
  },
  {
   "cell_type": "code",
   "execution_count": 15,
   "id": "c5536e0e",
   "metadata": {},
   "outputs": [
    {
     "data": {
      "text/plain": [
       "dict"
      ]
     },
     "execution_count": 15,
     "metadata": {},
     "output_type": "execute_result"
    }
   ],
   "source": [
    "#create a dict\n",
    "d={}\n",
    "type(d)"
   ]
  },
  {
   "cell_type": "code",
   "execution_count": 16,
   "id": "3c0215d2",
   "metadata": {},
   "outputs": [
    {
     "data": {
      "text/plain": [
       "dict"
      ]
     },
     "execution_count": 16,
     "metadata": {},
     "output_type": "execute_result"
    }
   ],
   "source": [
    "#create a dict\n",
    "d=dict()\n",
    "type(d)"
   ]
  },
  {
   "cell_type": "code",
   "execution_count": 17,
   "id": "4b11e07e",
   "metadata": {},
   "outputs": [
    {
     "data": {
      "text/plain": [
       "{'a': 'Apple', 'b': 'Ball', 'c': 'Cat'}"
      ]
     },
     "execution_count": 17,
     "metadata": {},
     "output_type": "execute_result"
    }
   ],
   "source": [
    "d={}\n",
    "d[\"a\"]=\"Apple\"\n",
    "d[\"b\"]=\"Ball\"\n",
    "d[\"c\"]=\"Cat\"\n",
    "d"
   ]
  },
  {
   "cell_type": "code",
   "execution_count": 20,
   "id": "58f15c6c",
   "metadata": {},
   "outputs": [
    {
     "data": {
      "text/plain": [
       "{'a': 'Ant', 'b': 'Ball', 'c': 'Cat'}"
      ]
     },
     "execution_count": 20,
     "metadata": {},
     "output_type": "execute_result"
    }
   ],
   "source": [
    "#Value update\n",
    "d={'a': 'Apple', 'b': 'Ball', 'c': 'Cat'}\n",
    "d[\"a\"]=\"Ant\"\n",
    "d"
   ]
  },
  {
   "cell_type": "code",
   "execution_count": 21,
   "id": "beca514d",
   "metadata": {},
   "outputs": [
    {
     "name": "stdout",
     "output_type": "stream",
     "text": [
      "a\n",
      "b\n",
      "c\n"
     ]
    }
   ],
   "source": [
    "#only key\n",
    "d={'a': 'Apple', 'b': 'Ball', 'c': 'Cat'}\n",
    "for i in d:\n",
    "    print(i)"
   ]
  },
  {
   "cell_type": "code",
   "execution_count": 22,
   "id": "898ebaa3",
   "metadata": {},
   "outputs": [
    {
     "name": "stdout",
     "output_type": "stream",
     "text": [
      "Apple\n",
      "Ball\n",
      "Cat\n"
     ]
    }
   ],
   "source": [
    "#only values\n",
    "d={'a': 'Apple', 'b': 'Ball', 'c': 'Cat'}\n",
    "for i in d.values():\n",
    "    print(i)"
   ]
  },
  {
   "cell_type": "code",
   "execution_count": 23,
   "id": "87516a5a",
   "metadata": {},
   "outputs": [
    {
     "name": "stdout",
     "output_type": "stream",
     "text": [
      "('a', 'Apple')\n",
      "('b', 'Ball')\n",
      "('c', 'Cat')\n"
     ]
    }
   ],
   "source": [
    "#all items\n",
    "d={'a': 'Apple', 'b': 'Ball', 'c': 'Cat'}\n",
    "for i in d.items():\n",
    "    print(i)"
   ]
  },
  {
   "cell_type": "code",
   "execution_count": 24,
   "id": "de7edeb4",
   "metadata": {},
   "outputs": [
    {
     "data": {
      "text/plain": [
       "{'a': 'Apple', 'b': 'Ball', 'c': 'Cat'}"
      ]
     },
     "execution_count": 24,
     "metadata": {},
     "output_type": "execute_result"
    }
   ],
   "source": [
    "#convert list into dict\n",
    "d=[['a','Apple'], ['b','Ball'], ['c','Cat']]\n",
    "dict(d)"
   ]
  },
  {
   "cell_type": "code",
   "execution_count": 26,
   "id": "620cc9d8",
   "metadata": {},
   "outputs": [
    {
     "name": "stdout",
     "output_type": "stream",
     "text": [
      "Enter value n2\n",
      "Enter namesd\n",
      "Enter phone no980\n",
      "Enter nameaaa\n",
      "Enter phone no999\n",
      "{'sd': '980', 'aaa': '999'}\n"
     ]
    }
   ],
   "source": [
    "#dict of name and phone\n",
    "d={}\n",
    "n=int(input(\"Enter value n\"))\n",
    "for i in range(n):\n",
    "    nm=input(\"Enter name\")\n",
    "    ph=input(\"Enter phone no\")\n",
    "    d[nm]=ph\n",
    "print(d)"
   ]
  },
  {
   "cell_type": "code",
   "execution_count": 27,
   "id": "570d0454",
   "metadata": {},
   "outputs": [
    {
     "ename": "TypeError",
     "evalue": "unhashable type: 'list'",
     "output_type": "error",
     "traceback": [
      "\u001b[0;31m---------------------------------------------------------------------------\u001b[0m",
      "\u001b[0;31mTypeError\u001b[0m                                 Traceback (most recent call last)",
      "Cell \u001b[0;32mIn[27], line 2\u001b[0m\n\u001b[1;32m      1\u001b[0m \u001b[38;5;66;03m#No list as key in dict\u001b[39;00m\n\u001b[0;32m----> 2\u001b[0m d\u001b[38;5;241m=\u001b[39m{[\u001b[38;5;124m'\u001b[39m\u001b[38;5;124msd\u001b[39m\u001b[38;5;124m'\u001b[39m]: \u001b[38;5;124m'\u001b[39m\u001b[38;5;124m980\u001b[39m\u001b[38;5;124m'\u001b[39m, [\u001b[38;5;124m'\u001b[39m\u001b[38;5;124maaa\u001b[39m\u001b[38;5;124m'\u001b[39m]: \u001b[38;5;124m'\u001b[39m\u001b[38;5;124m999\u001b[39m\u001b[38;5;124m'\u001b[39m}\n\u001b[1;32m      3\u001b[0m d\n",
      "\u001b[0;31mTypeError\u001b[0m: unhashable type: 'list'"
     ]
    }
   ],
   "source": [
    "#No list as key in dict\n",
    "d={['sd']: '980', ['aaa']: '999'}\n",
    "d"
   ]
  },
  {
   "cell_type": "code",
   "execution_count": 29,
   "id": "3c3405f6",
   "metadata": {},
   "outputs": [
    {
     "data": {
      "text/plain": [
       "{'sd': [980, 977], 'aaa': [999, 998]}"
      ]
     },
     "execution_count": 29,
     "metadata": {},
     "output_type": "execute_result"
    }
   ],
   "source": [
    "#list inside dict\n",
    "d={'sd': [980,977], 'aaa': [999,998]}\n",
    "d"
   ]
  },
  {
   "cell_type": "code",
   "execution_count": 30,
   "id": "2cdcc867",
   "metadata": {},
   "outputs": [
    {
     "name": "stdout",
     "output_type": "stream",
     "text": [
      "Enter value n1\n",
      "Enter namesd\n",
      "Enter phone no980\n",
      "Enter phone no999\n",
      "{'sd': ['980', '999']}\n"
     ]
    }
   ],
   "source": [
    "#dict of name and 2 phone\n",
    "d={}\n",
    "n=int(input(\"Enter value n\"))\n",
    "for i in range(n):\n",
    "    nm=input(\"Enter name\")\n",
    "    ph=input(\"Enter phone no\")\n",
    "    ph_ex=input(\"Enter phone no\")\n",
    "    d[nm]=[ph,ph_ex]\n",
    "print(d)"
   ]
  },
  {
   "cell_type": "code",
   "execution_count": 33,
   "id": "14506ee5",
   "metadata": {},
   "outputs": [
    {
     "name": "stdout",
     "output_type": "stream",
     "text": [
      "980\n"
     ]
    }
   ],
   "source": [
    "print(d[\"sd\"][0])"
   ]
  },
  {
   "cell_type": "code",
   "execution_count": 34,
   "id": "2d15baa1",
   "metadata": {},
   "outputs": [],
   "source": [
    "d={\n",
    "    \"name\":[\"Ram\",\"Shaym\",\"Hari\"],\n",
    "    \"age\":[78,45,24],\n",
    "    \"add\":[\"Ktm\",\"Bkt\",\"Pok\"]\n",
    "}\n"
   ]
  },
  {
   "cell_type": "code",
   "execution_count": 42,
   "id": "8b8d82cb",
   "metadata": {},
   "outputs": [
    {
     "name": "stdout",
     "output_type": "stream",
     "text": [
      "Enter n:2\n",
      "Enter name:ram\n",
      "Enter age:32\n",
      "Enter address:ktm\n",
      "Enter name:sam\n",
      "Enter age:21\n",
      "Enter address:bkt\n",
      "{'name': ['ram', 'sam'], 'age': [32, 21], 'address': ['ktm', 'bkt']}\n"
     ]
    }
   ],
   "source": [
    "d={\n",
    "    \"name\":[],\n",
    "    \"age\":[],\n",
    "    \"address\":[]\n",
    "}\n",
    "n=int(input(\"Enter n:\"))\n",
    "for i in range(n):\n",
    "    nm=input(\"Enter name:\")\n",
    "    ag=int(input(\"Enter age:\"))\n",
    "    ad=input(\"Enter address:\")\n",
    "    d[\"name\"].append(nm)\n",
    "    d[\"age\"].append(ag)\n",
    "    d[\"address\"].append(ad)\n",
    "print(d)           "
   ]
  },
  {
   "cell_type": "code",
   "execution_count": 43,
   "id": "7402704b",
   "metadata": {},
   "outputs": [
    {
     "name": "stdout",
     "output_type": "stream",
     "text": [
      "name ram\n",
      "age 32\n",
      "address ktm\n"
     ]
    }
   ],
   "source": [
    "#Details of ram\n",
    "a={'name': ['ram', 'sam'], 'age': [32, 21], 'address': ['ktm', 'bkt']}\n",
    "print(\"name\",a[\"name\"][0])\n",
    "print(\"age\",a[\"age\"][0])\n",
    "print(\"address\",a[\"address\"][0])"
   ]
  },
  {
   "cell_type": "code",
   "execution_count": 5,
   "id": "26b509a7",
   "metadata": {},
   "outputs": [
    {
     "name": "stdout",
     "output_type": "stream",
     "text": [
      "{'name': ['John', 'sam'], 'age': [28, 21], 'address': ['New York', 'bkt']}\n",
      "{}\n"
     ]
    }
   ],
   "source": [
    "# WAP to edit and delete above program\n",
    "a={'name': ['ram', 'sam'], 'age': [32, 21], 'address': ['ktm', 'bkt']}\n",
    "a[\"name\"][0] = \"John\"\n",
    "a[\"age\"][0] = 28\n",
    "a[\"address\"][0] = \"New York\"\n",
    "print(a)\n",
    "del a[\"name\"]\n",
    "del a[\"age\"]\n",
    "del a[\"address\"]\n",
    "print(a)"
   ]
  },
  {
   "cell_type": "code",
   "execution_count": 47,
   "id": "3dbcf531",
   "metadata": {},
   "outputs": [
    {
     "data": {
      "text/plain": [
       "25"
      ]
     },
     "execution_count": 47,
     "metadata": {},
     "output_type": "execute_result"
    }
   ],
   "source": [
    "#dict inside dict\n",
    "d={\"Physics\":{\"ptr\":25,\"th\":60},\n",
    "   \"Chemistry\":{\"th\":55,\"ptr\":25},\n",
    "   \"Maths\":{\"ptr\":25,\"th\":67},\n",
    "  }\n",
    "#ptr value of phy\n",
    "d[\"Physics\"][\"ptr\"]"
   ]
  },
  {
   "cell_type": "code",
   "execution_count": 48,
   "id": "62677436",
   "metadata": {},
   "outputs": [],
   "source": []
  },
  {
   "cell_type": "code",
   "execution_count": 49,
   "id": "76680835",
   "metadata": {},
   "outputs": [
    {
     "data": {
      "text/plain": [
       "{'Physics': {'ptr': 25, 'th': 70},\n",
       " 'Chemistry': {'th': 55, 'ptr': 25},\n",
       " 'Maths': {'ptr': 25, 'th': 67}}"
      ]
     },
     "execution_count": 49,
     "metadata": {},
     "output_type": "execute_result"
    }
   ],
   "source": [
    "d[\"Physics\"][\"th\"]=70\n",
    "d"
   ]
  },
  {
   "cell_type": "code",
   "execution_count": 3,
   "id": "74bf6dc3",
   "metadata": {},
   "outputs": [
    {
     "name": "stdout",
     "output_type": "stream",
     "text": [
      "Enter n:2\n",
      "Enter name:s\n",
      "Enter age:17\n",
      "Enter address:ktm\n",
      "Enter name:d\n",
      "Enter age:18\n",
      "Enter address:ktm\n",
      "{1: {'name': 's', 'age': 17, 'address': 'ktm'}, 2: {'name': 'd', 'age': 18, 'address': 'ktm'}}\n"
     ]
    }
   ],
   "source": [
    "#WAP to create dict inside dict with CRUD(Create read update delete)\n",
    "d={}\n",
    "n=int(input(\"Enter n:\"))\n",
    "for i in range(1,n+1):\n",
    "    nm=input(\"Enter name:\")\n",
    "    ag=int(input(\"Enter age:\"))\n",
    "    ad=input(\"Enter address:\")\n",
    "    d[i]={\"name\":nm,\"age\":ag,\"address\":ad}\n",
    "    \n",
    "print(d)"
   ]
  },
  {
   "cell_type": "code",
   "execution_count": null,
   "id": "94fc2705",
   "metadata": {},
   "outputs": [],
   "source": []
  }
 ],
 "metadata": {
  "kernelspec": {
   "display_name": "Python 3 (ipykernel)",
   "language": "python",
   "name": "python3"
  },
  "language_info": {
   "codemirror_mode": {
    "name": "ipython",
    "version": 3
   },
   "file_extension": ".py",
   "mimetype": "text/x-python",
   "name": "python",
   "nbconvert_exporter": "python",
   "pygments_lexer": "ipython3",
   "version": "3.11.3"
  }
 },
 "nbformat": 4,
 "nbformat_minor": 5
}
